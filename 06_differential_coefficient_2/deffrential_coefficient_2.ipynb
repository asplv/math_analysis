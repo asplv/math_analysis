{
 "cells": [
  {
   "cell_type": "markdown",
   "metadata": {},
   "source": [
    "### Производная функции. Неявная и параметрическая функции, логарифмирование, задачи оптимизации"
   ]
  },
  {
   "cell_type": "markdown",
   "metadata": {},
   "source": [
    "**1. Найти производную $y'_{x}$ функции:**\n",
    "### $$\\arctan(\\frac{y}{x})=\\ln \\sqrt{x^2+y^2}$$"
   ]
  },
  {
   "cell_type": "markdown",
   "metadata": {},
   "source": [
    "### $\\arctan(\\frac{y}{x})- \\ln \\sqrt{x^2+y^2} = 0$\n",
    "\n",
    "### $\\frac{1}{1+(\\frac{y}{x})^2} \\cdot (\\frac{y}{x})'- \\frac{1}{\\sqrt{x^2+y^2}} \\cdot \\frac{1}{2\\sqrt{x^2+y^2}} \\cdot (2x+2y \\cdot y') = 0$\n",
    "\n",
    "### $\\frac{1}{1+\\frac{y^2}{x^2}} \\cdot \\frac{y'x - yx'}{x^2}- \\frac{2x+2y \\cdot y'}{2(x^2+y^2)} = 0$\n",
    "\n",
    "### $\\frac{y'x-y}{x^2+y^2} - \\frac{x+y \\cdot y'}{x^2+y^2} = 0$\n",
    "\n",
    "### $\\frac{y'x-y- x- yy'}{x^2+y^2} = 0$\n",
    "\n",
    "$y'x-y- x- yy'= 0$\n",
    "\n",
    "$y'x - yy'= x+y$\n",
    "\n",
    "$y'(x-y) = x+y$\n",
    "\n",
    "### $y' = \\frac{x+y}{x-y}$"
   ]
  },
  {
   "cell_type": "markdown",
   "metadata": {},
   "source": [
    "Решение при помощи sympy:"
   ]
  },
  {
   "cell_type": "code",
   "execution_count": 41,
   "metadata": {},
   "outputs": [],
   "source": [
    "from sympy import *\n",
    "init_printing()"
   ]
  },
  {
   "cell_type": "code",
   "execution_count": 43,
   "metadata": {},
   "outputs": [
    {
     "data": {
      "image/png": "[encoded data removed]",
      "text/latex": [
       "$\\displaystyle - \\log{\\left(\\sqrt{x^{2} + y^{2}} \\right)} + \\operatorname{atan}{\\left(\\frac{y}{x} \\right)}$"
      ],
      "text/plain": [
       "     ⎛   _________⎞          \n",
       "     ⎜  ╱  2    2 ⎟       ⎛y⎞\n",
       "- log⎝╲╱  x  + y  ⎠ + atan⎜─⎟\n",
       "                          ⎝x⎠"
      ]
     },
     "execution_count": 43,
     "metadata": {},
     "output_type": "execute_result"
    }
   ],
   "source": [
    "x,y=symbols('x y')\n",
    "f=atan(y/x)-ln(sqrt(x**2+y**2))\n",
    "f"
   ]
  },
  {
   "cell_type": "code",
   "execution_count": 44,
   "metadata": {},
   "outputs": [
    {
     "data": {
      "image/png": "[encoded data removed]",
      "text/latex": [
       "$\\displaystyle \\frac{\\frac{x}{x^{2} + y^{2}} + \\frac{y}{x^{2} \\left(1 + \\frac{y^{2}}{x^{2}}\\right)}}{- \\frac{y}{x^{2} + y^{2}} + \\frac{1}{x \\left(1 + \\frac{y^{2}}{x^{2}}\\right)}}$"
      ],
      "text/plain": [
       "   x           y      \n",
       "─────── + ─────────── \n",
       " 2    2      ⎛     2⎞ \n",
       "x  + y     2 ⎜    y ⎟ \n",
       "          x ⋅⎜1 + ──⎟ \n",
       "             ⎜     2⎟ \n",
       "             ⎝    x ⎠ \n",
       "──────────────────────\n",
       "     y          1     \n",
       "- ─────── + ──────────\n",
       "   2    2     ⎛     2⎞\n",
       "  x  + y      ⎜    y ⎟\n",
       "            x⋅⎜1 + ──⎟\n",
       "              ⎜     2⎟\n",
       "              ⎝    x ⎠"
      ]
     },
     "execution_count": 44,
     "metadata": {},
     "output_type": "execute_result"
    }
   ],
   "source": [
    "-diff(f,x)/diff(f,y)"
   ]
  },
  {
   "cell_type": "markdown",
   "metadata": {},
   "source": [
    "**2.Найти производную $y'_{x}$ функции:**\n",
    "### \\begin{cases}\n",
    "   y=\\frac{t^2}{t-1}, \\\\\n",
    "   x=\\frac{t}{t^2-1} \n",
    " \\end{cases}"
   ]
  },
  {
   "cell_type": "markdown",
   "metadata": {},
   "source": [
    "### $y' =\\frac{y_t'}{x_t'}$\n",
    "\n",
    "### $y' =\\frac{(\\frac{t^2}{t-1})'}{(\\frac{t}{t^2-1})'} =\\frac{\\frac{(t^2)' \\cdot (t-1) - t^2 \\cdot (t-1)'}{(t-1)^2}}{\\frac{t'\\cdot(t^2-1) - t \\cdot (t^2-1)'}{(t^2-1)^2}} = \\frac{2t(t-1) - t^2}{(t-1)^2} \\cdot \\frac{(t^2-1)^2}{t^2-1 - 2t^2} = \\frac{(t^2-2t)(t^2-1)^2}{-(t-1)^2(t^2+1)}$"
   ]
  },
  {
   "cell_type": "markdown",
   "metadata": {},
   "source": [
    "Решение при помощи sympy:"
   ]
  },
  {
   "cell_type": "code",
   "execution_count": 47,
   "metadata": {},
   "outputs": [
    {
     "data": {
      "image/png": "[encoded data removed]",
      "text/latex": [
       "$\\displaystyle \\frac{t^{2}}{t - 1}$"
      ],
      "text/plain": [
       "   2 \n",
       "  t  \n",
       "─────\n",
       "t - 1"
      ]
     },
     "execution_count": 47,
     "metadata": {},
     "output_type": "execute_result"
    }
   ],
   "source": [
    "t=Symbol('t')\n",
    "y=t**2/(t-1)\n",
    "y"
   ]
  },
  {
   "cell_type": "code",
   "execution_count": 48,
   "metadata": {},
   "outputs": [
    {
     "data": {
      "image/png": "[encoded data removed]",
      "text/latex": [
       "$\\displaystyle \\frac{t}{t^{2} - 1}$"
      ],
      "text/plain": [
       "  t   \n",
       "──────\n",
       " 2    \n",
       "t  - 1"
      ]
     },
     "execution_count": 48,
     "metadata": {},
     "output_type": "execute_result"
    }
   ],
   "source": [
    "x=t/(t**2-1)\n",
    "x"
   ]
  },
  {
   "cell_type": "code",
   "execution_count": 49,
   "metadata": {},
   "outputs": [
    {
     "data": {
      "image/png": "[encoded data removed]",
      "text/latex": [
       "$\\displaystyle \\frac{- \\frac{t^{2}}{\\left(t - 1\\right)^{2}} + \\frac{2 t}{t - 1}}{- \\frac{2 t^{2}}{\\left(t^{2} - 1\\right)^{2}} + \\frac{1}{t^{2} - 1}}$"
      ],
      "text/plain": [
       "       2            \n",
       "      t        2⋅t  \n",
       " - ──────── + ───── \n",
       "          2   t - 1 \n",
       "   (t - 1)          \n",
       "────────────────────\n",
       "        2           \n",
       "     2⋅t        1   \n",
       "- ───────── + ──────\n",
       "          2    2    \n",
       "  ⎛ 2    ⎞    t  - 1\n",
       "  ⎝t  - 1⎠          "
      ]
     },
     "execution_count": 49,
     "metadata": {},
     "output_type": "execute_result"
    }
   ],
   "source": [
    "diff(y,t)/diff(x,t)"
   ]
  },
  {
   "cell_type": "markdown",
   "metadata": {},
   "source": [
    "**3. Найти производную с помощью логарифмирования:**\n",
    "\n",
    "### $$y=(x^2+2)^5\\cdot(3x-x^3)^3$$"
   ]
  },
  {
   "cell_type": "markdown",
   "metadata": {},
   "source": [
    "### $y'=f(x) \\cdot (\\ln f(x))'$\n",
    "\n",
    "### $y'=(x^2+2)^5\\cdot(3x-x^3)^3 \\cdot (5\\ln(x^2+2) + 3\\ln(3x-x^3))'$\n",
    "\n",
    "### $y'=(x^2+2)^5\\cdot(3x-x^3)^3 \\cdot \\left(\\frac{5}{x^2+2} \\cdot 2x + \\frac{3}{3x-x^3} \\cdot (3-3x^2)\\right)$\n",
    "\n",
    "### $y'=(x^2+2)^5\\cdot(3x-x^3)^3 \\cdot \\left(\\frac{10x}{x^2+2} + \\frac{9-9x^2}{3x-x^3}\\right) $"
   ]
  },
  {
   "cell_type": "markdown",
   "metadata": {},
   "source": [
    "**4. Найти производную функции с помощью логарифмирования:**\n",
    " $$y=x^x$$"
   ]
  },
  {
   "cell_type": "markdown",
   "metadata": {},
   "source": [
    "$y'=f(x) \\cdot (\\ln f(x))'$\n",
    "\n",
    "$y'=x^x \\cdot (\\ln x^x)' = x^x \\cdot (x \\cdot \\ln x)' = x^x(\\ln x + \\frac{x}{x}) = x^x(\\ln x + 1) $"
   ]
  },
  {
   "cell_type": "markdown",
   "metadata": {},
   "source": [
    "**5. Найти производную функции с помощью логарифмирования:**\n",
    "### $$y=\\frac{(2-x^2)^3\\cdot(x-1)^2}{(2x^3-3x)\\cdot e^x}$$"
   ]
  },
  {
   "cell_type": "markdown",
   "metadata": {},
   "source": [
    "### $y' =\\frac{(2-x^2)^3\\cdot(x-1)^2}{(2x^3-3x)\\cdot e^x} \\cdot \\left(3\\ln(2-x^2) + 2\\ln (x-1) - \\ln(2x^3-3x) - x \\cdot \\ln e\\right)'$\n",
    "\n",
    "### $y' =\\frac{(2-x^2)^3\\cdot(x-1)^2}{(2x^3-3x)\\cdot e^x} \\cdot \\left(\\frac{3}{2-x^2} \\cdot (-2x) + \\frac{2}{x-1} - \\frac{1}{2x^3-3x} \\cdot (6x^2-3) - 1\\right)$\n",
    "\n",
    "### $y' =\\frac{(2-x^2)^3\\cdot(x-1)^2}{(2x^3-3x)\\cdot e^x} \\cdot \\left(\\frac{-6x}{2-x^2} + \\frac{2}{x-1} - \\frac{6x^2-3}{2x^3-3x}- 1\\right)$"
   ]
  },
  {
   "cell_type": "markdown",
   "metadata": {},
   "source": [
    "**6. Вывести табличное значение производной для функции:**\n",
    "$$\\arctan(x)$$"
   ]
  },
  {
   "cell_type": "markdown",
   "metadata": {},
   "source": [
    "### $y' = \\frac{1}{x_y'}$"
   ]
  },
  {
   "cell_type": "markdown",
   "metadata": {},
   "source": [
    "### $y' = \\frac{1}{(\\tan y)'} = \\frac{1}{\\frac{1}{\\cos^2 y}} = \\cos^2 y$"
   ]
  },
  {
   "cell_type": "markdown",
   "metadata": {},
   "source": [
    "$\\sin^2 y + \\cos^2 y = 1$, выразим $\\cos^2 y$\n",
    "\n",
    "$\\frac{\\sin^2 y}{\\cos^2 y} + \\frac{\\cos^2 y}{\\cos^2 y} = \\frac{1}{\\cos^2 y}$\n",
    "\n",
    "$\\tan^2 y + 1 = \\frac{1}{\\cos^2 y}$\n",
    "\n",
    "$\\cos^2 y = \\frac{1}{\\tan^2 y + 1}$"
   ]
  },
  {
   "cell_type": "markdown",
   "metadata": {},
   "source": [
    "### $y' = \\frac{1}{\\tan^2 y + 1} = \\frac{1}{\\tan^2 (\\arctan x) + 1} = \\frac{1}{x^2 + 1}$"
   ]
  },
  {
   "cell_type": "markdown",
   "metadata": {},
   "source": [
    "**__7.__ Найти длину $𝑥$ и ширину $𝑦$ прямоугольника при заданном периметре $𝑃=144$ cм, при которых данный прямоугольник имеет наибольшую площадь $𝑆$.**"
   ]
  },
  {
   "cell_type": "markdown",
   "metadata": {},
   "source": [
    "Дано:\n",
    "\n",
    "$P = 144$\n",
    "\n",
    "$2(x+y)=144$"
   ]
  },
  {
   "cell_type": "markdown",
   "metadata": {},
   "source": [
    "Выразим $y$:\n",
    "\\begin{align} \n",
    "2(x+y)=144 \\\\\n",
    "x+y = 72 \\\\\n",
    "y = 72-x\n",
    "\\end{align}"
   ]
  },
  {
   "cell_type": "markdown",
   "metadata": {},
   "source": [
    "**1.Составляем уравнение функции площади прямоугольника:**\n",
    "\n",
    "$S = x \\cdot y $\n",
    "\n",
    "$S = x(72-x) = 72x - x^2$\n",
    "\n",
    "**2.Находим производную данной функции:**\n",
    "\n",
    "$S' = 72 - 2x$\n",
    "\n",
    "\n",
    "**3.Находим критические точки:**\n",
    "\n",
    "\\begin{align} \n",
    "72 - 2x=0 \\\\\n",
    "2x= 72 \\\\\n",
    "x = 36\n",
    "\\end{align}\n",
    "\n",
    "**4.Исследуем окрестность критической точки:**\n",
    "\n",
    "Если $x = 35$, то $72 - 70 = 2$, т.е. производная $> 0$ \n",
    "\n",
    "Если $x = 37$, то $72 - 74 = -2$, т.е. производная $< 0$"
   ]
  },
  {
   "cell_type": "code",
   "execution_count": 51,
   "metadata": {},
   "outputs": [
    {
     "data": {
      "image/png": "[encoded data removed]",
      "text/plain": [
       "<Figure size 432x288 with 1 Axes>"
      ]
     },
     "metadata": {
      "needs_background": "light"
     },
     "output_type": "display_data"
    }
   ],
   "source": [
    "import numpy as np\n",
    "import matplotlib.pyplot as plt\n",
    "\n",
    "x = np.linspace(0, 72, 100) \n",
    "y = 72*x - x**2 \n",
    "\n",
    "fig, ax = plt.subplots()                    \n",
    "ax.plot(x, y, color=\"c\", label=\"функция S\")\n",
    "ax.set_xlabel(\"x\")\n",
    "ax.set_ylabel(\"y\")\n",
    "ax.legend()  \n",
    "ax.grid()   \n",
    "\n",
    "plt.show()"
   ]
  },
  {
   "cell_type": "markdown",
   "metadata": {},
   "source": [
    "Убеждаемся, что $x = 36$ - экстремум, т.е. при этом значении x, площадь максимальна => Ответ: площадь максимальна при длине $x = 36$ и ширине $y = 36$"
   ]
  },
  {
   "cell_type": "markdown",
   "metadata": {},
   "source": [
    "**8. Завод $A$ отстоит от железной дороги, идущей с юга на север и проходящей через $B$, считая по кратчайшему расстоянию на $a$ км. Под каким углом $\\alpha$ к железной дороге следует ппостроить подъезной  путь от завода, чтобы транспортировка грузов из $A$ в $B$ была наиболее экономичной, если стоимость провоза тонны груза на расстоянии $1$ км составляет: по подъезному пути $p$ рублей, по железной дороге $q$ рублей $(p>q)$ и город $B$ расположен на $b$ км севернее завода $A$.**"
   ]
  },
  {
   "cell_type": "code",
   "execution_count": null,
   "metadata": {},
   "outputs": [],
   "source": []
  }
 ],
 "metadata": {
  "kernelspec": {
   "display_name": "Python 3",
   "language": "python",
   "name": "python3"
  },
  "language_info": {
   "codemirror_mode": {
    "name": "ipython",
    "version": 3
   },
   "file_extension": ".py",
   "mimetype": "text/x-python",
   "name": "python",
   "nbconvert_exporter": "python",
   "pygments_lexer": "ipython3",
   "version": "3.8.1"
  }
 },
 "nbformat": 4,
 "nbformat_minor": 4
}

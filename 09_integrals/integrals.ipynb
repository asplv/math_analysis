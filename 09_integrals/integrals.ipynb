{
 "cells": [
  {
   "cell_type": "markdown",
   "metadata": {},
   "source": [
    "Анастасия Плавина\n",
    "\n",
    "### Тема: Интегрирование. Неопределенные, определенные и несобственные интегралы"
   ]
  },
  {
   "cell_type": "markdown",
   "metadata": {},
   "source": [
    "**1. Вычислить неопределенный интеграл**\n",
    "\n",
    "### $$\\int \\frac{2x+3}{(x-2)(x+5)}\\,dx$$\n"
   ]
  },
  {
   "cell_type": "markdown",
   "metadata": {},
   "source": [
    "Применим метод неопределенных коэффицентов:\n",
    "\n",
    "### $\\frac{2x+3}{(x-2)(x+5)} = \\frac{a}{(x-2)} + \\frac{b}{(x+5)} = \\frac{a(x+5) + b(x-2)}{(x-2)(x+5)}$\n",
    "\n",
    "$a(x+5) + b(x-2) = 2x+3$\n",
    "\n",
    "$ax+5a + bx-2b = 2x+3$\n",
    "\n",
    "$x(a+b) + 5a - 2b = 2x+3$\n",
    "\n",
    "$\\begin{cases}\n",
    "   x(a+b) =2x; \\\\\n",
    "   5a - 2b=3\n",
    " \\end{cases}$\n",
    " \n",
    "$\\begin{cases}\n",
    "   a+b =2; \\\\\n",
    "   5a - 2b=3\n",
    " \\end{cases}$\n",
    " \n",
    "$\\begin{cases}\n",
    "   a=2-b; \\\\\n",
    "   10-5b -2b=3\n",
    " \\end{cases}$\n",
    "\n",
    "$\\begin{cases}\n",
    "   a=1; \\\\\n",
    "   b=1\n",
    " \\end{cases}$ =>\n",
    " \n",
    "### $\\int \\frac{2x+3}{(x-2)(x+5)}\\,dx = \\int \\frac{dx}{x-2} + \\int \\frac{dx}{x+5} = \\ln(|x-2||x+5|) + C$"
   ]
  },
  {
   "cell_type": "markdown",
   "metadata": {},
   "source": [
    "**2. Вычислить неопределенный интеграл**\n",
    "\n",
    "### $$\\int e^{2x}\\cos 3x\\,dx$$"
   ]
  },
  {
   "cell_type": "markdown",
   "metadata": {},
   "source": [
    "$\\int U\\cdot dV=U\\cdot V-\\int V\\cdot dU$\n",
    "$\\int e^{2x}\\cos 3x\\,dx = \\frac{1}{3} \\int e^{2x}\\cos 3x\\,d3x=$\n",
    "\n",
    "$=\\frac{1}{3}\\int e^{2x}d\\sin3x  = \\frac{1}{3}e^{2x}\\sin3x - \\frac{1}{3}\\int \\sin3x \\cdot de^{2x}$\n",
    "\n",
    "Р/м интеграл $\\int \\sin3x \\cdot de^{2x}$:\n",
    "\n",
    "$\\int \\sin3x \\cdot de^{2x} = \\int 2e^{2x}dx \\sin 3x = \\frac{2}{3} \\int e^{2x}\\sin 3x d3x=$\n",
    "\n",
    "$=- \\frac{2}{3} \\int e^{2x} d \\cos 3x = - \\frac{2}{3} e^{2x} \\cos 3x + \\frac{2}{3} \\int \\cos 3x \\cdot d e^{2x} = - \\frac{2}{3} e^{2x} \\cos 3x + \\frac{4}{3} \\int e^{2x} \\cos 3x \\cdot dx $\n",
    "\n",
    "Пусть $I = \\int e^{2x}\\cos 3x\\,dx$, тогда:\n",
    "\n",
    "$I = \\frac{1}{3}e^{2x}\\sin3x + \\frac{2}{9} e^{2x} \\cos 3x - \\frac{4}{9}I + C$\n",
    "\n",
    "$\\frac{13}{9}I = \\frac{1}{3}e^{2x}\\sin3x + \\frac{2}{9} e^{2x} \\cos 3x + C$\n",
    "\n",
    "$I = (\\frac{1}{3}e^{2x}\\sin3x + \\frac{2}{9} e^{2x} \\cos 3x) \\cdot \\frac{9}{13}+ C$\n",
    "\n",
    "$I = \\frac{3}{13}e^{2x}\\sin3x + \\frac{2}{13} e^{2x} \\cos 3x + C$\n",
    "\n",
    "$I = \\frac{1}{13}e^{2x}(3\\sin3x + 2\\cos 3x) + C$\n",
    "\n",
    "$\\int e^{2x}\\cos 3x\\,dx = \\frac{1}{13}e^{2x}(3\\sin3x + 2\\cos 3x) + С$"
   ]
  },
  {
   "cell_type": "markdown",
   "metadata": {},
   "source": [
    "**3. Вычислить определенный интеграл**\n",
    "\n",
    "### $$\\int\\limits_0^{\\ln2} xe^{-x}\\,dx$$"
   ]
  },
  {
   "cell_type": "markdown",
   "metadata": {},
   "source": [
    "$\\int xe^{-x}\\,dx = \\int -x\\,de^{-x} $\n",
    "\n",
    "$U = -x$, $V = e^{-x}$\n",
    "\n",
    "$\\int -x\\,de^{-x} = -xe^{-x} + \\int e^{-x} dx = -xe^{-x} - e^{-x} = -e^{-x}(x+1) + C$\n",
    "\n",
    "$\\int\\limits_0^{\\ln2} xe^{-x}\\,dx = -e^{-\\ln 2}(\\ln2+1) = -\\frac{1}{2}\\ln2 - \\frac{1}{2} + e^0 = -\\frac{1}{2}\\ln2 + \\frac{1}{2} = \\frac{1}{2}(1-\\ln2)$"
   ]
  },
  {
   "cell_type": "markdown",
   "metadata": {},
   "source": [
    "**4. Вычислить несобственный интеграл**\n",
    "\n",
    "### $$\\int\\limits_2^{+\\infty} \\frac{dx}{x^2+x-2}$$"
   ]
  },
  {
   "cell_type": "markdown",
   "metadata": {},
   "source": [
    "$\\int\\limits_{a}^{+\\infty}f(x)\\,dx=\\lim_{b\\to +\\infty}\\int\\limits_{a}^b f(x)\\,dx=\\lim_{b\\to +\\infty}F(b)-F(a)$\n",
    "\n",
    "1. Возьмем неопределенный интеграл:\n",
    "\n",
    "### $\\int \\frac{dx}{x^2+x-2} = \\int \\frac{1}{x^2+x-2}\\, dx =  \\int \\frac{1}{(x+2)(x-1)}\\, dx$\n",
    "\n",
    "Применим метод неопределенных коэффицентов:\n",
    "$\\frac{1}{(x+2)(x-1)} = \\frac{a}{x+2} + \\frac{b}{x-1} = \\frac{ax-a + bx +2b}{(x+2)(x-1)} $\n",
    "\n",
    "$ax-a + bx +2b = 1$\n",
    "\n",
    "$\\begin{cases}\n",
    "   a =-b; \\\\\n",
    "   -bx+b+bx+2b=1\n",
    " \\end{cases}$\n",
    "\n",
    "$\\begin{cases}\n",
    "   a =-\\frac{1}{3}; \\\\\n",
    "   b=\\frac{1}{3}\n",
    " \\end{cases}$\n",
    "\n",
    "\n",
    "### $\\int \\frac{dx}{x^2+x-2}\\,dx = \\int  (\\frac{1}{3(x-1)} - \\frac{1}{3(x+2)})\\,dx = \\frac{1}{3}\\ln\\frac{|x-1|}{|x+2|} + C $\n",
    "\n",
    "2. Подставим значения и найдем предел:\n",
    "\n",
    "### $\\int\\limits_2^{+\\infty} \\frac{dx}{x^2+x-2} = \\lim_{b\\to +\\infty} \\frac{1}{3}\\ln\\frac{|b-1|}{|b+2|} - \\frac{1}{3}\\ln\\frac{1}{4} = \\frac{1}{3}\\ln\\frac{\\infty}{\\infty} - \\frac{1}{3}\\ln\\frac{1}{4} = \\frac{2}{3}\\ln 2$"
   ]
  },
  {
   "cell_type": "markdown",
   "metadata": {},
   "source": [
    "**5. Вычислить несобственный интеграл**\n",
    "\n",
    "### $$\\int\\limits_0^{1} \\ln x\\,dx$$"
   ]
  },
  {
   "cell_type": "markdown",
   "metadata": {},
   "source": [
    "1. Возьмем неопределенный интеграл:\n",
    "\n",
    "$\\int \\ln x\\,dx = x\\ln x - \\int x d\\ln x = x\\ln x - \\int x \\frac{dx}{x} = x\\ln x - x+ C$\n",
    "\n",
    "2. Подставим значения \n",
    "\n",
    "$\\int\\limits_0^{1} \\ln x\\,dx = 1 \\cdot \\ln 1 - 1 - 0 = -1$"
   ]
  }
 ],
 "metadata": {
  "kernelspec": {
   "display_name": "Python 3",
   "language": "python",
   "name": "python3"
  },
  "language_info": {
   "codemirror_mode": {
    "name": "ipython",
    "version": 3
   },
   "file_extension": ".py",
   "mimetype": "text/x-python",
   "name": "python",
   "nbconvert_exporter": "python",
   "pygments_lexer": "ipython3",
   "version": "3.8.1"
  }
 },
 "nbformat": 4,
 "nbformat_minor": 4
}

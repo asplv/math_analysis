{
 "cells": [
  {
   "cell_type": "markdown",
   "metadata": {},
   "source": [
    "## Предел функции"
   ]
  },
  {
   "cell_type": "code",
   "execution_count": 1,
   "metadata": {},
   "outputs": [],
   "source": [
    "import matplotlib.pyplot as plt\n",
    "import numpy as np"
   ]
  },
  {
   "cell_type": "markdown",
   "metadata": {},
   "source": [
    "**1. Предложить пример функции, не имеющей предела в нуле и в бесконечностях.**"
   ]
  },
  {
   "cell_type": "markdown",
   "metadata": {},
   "source": [
    "$f(x)=\\frac{1}{x} + x$"
   ]
  },
  {
   "cell_type": "markdown",
   "metadata": {},
   "source": [
    "**2. Привести пример функции, не имеющей предела в точке, но определенной в ней.**"
   ]
  },
  {
   "cell_type": "markdown",
   "metadata": {},
   "source": [
    "$f(x)=sgn(x)$"
   ]
  },
  {
   "cell_type": "markdown",
   "metadata": {},
   "source": [
    "**3. Исследовать функцию $f(x) = x^3 - x^2$ по плану:**"
   ]
  },
  {
   "cell_type": "code",
   "execution_count": 4,
   "metadata": {},
   "outputs": [
    {
     "data": {
      "image/png": "[encoded data removed]",
      "text/plain": [
       "<Figure size 432x288 with 1 Axes>"
      ]
     },
     "metadata": {
      "needs_background": "light"
     },
     "output_type": "display_data"
    }
   ],
   "source": [
    "def f(x):\n",
    "    return x**3 - x**2\n",
    "\n",
    "x = np.arange(-0.5, 1.2, 0.1)\n",
    "\n",
    "plt.plot(x, f(x), c='r')\n",
    "plt.title('График  $f(x) = x^3 - x^2$')\n",
    "plt.grid()\n",
    "plt.show()"
   ]
  },
  {
   "cell_type": "markdown",
   "metadata": {},
   "source": [
    "**Область задания и область значений:** \\\n",
    "$D(f)=\\mathbb{R}\\\\\n",
    "R(f)=\\mathbb{R}$"
   ]
  },
  {
   "cell_type": "markdown",
   "metadata": {},
   "source": [
    "**Нули функции:**\n",
    "\\begin{align} \n",
    "x^3 - x^2 = 0 \\\\\n",
    "x^2(x-1) = 0 \\\\\n",
    "x_1 = 0 \\\\\n",
    "x_2 = 1 \\\\\n",
    "\\end{align}"
   ]
  },
  {
   "cell_type": "markdown",
   "metadata": {},
   "source": [
    "**Отрезки знакопостоянства:**\\\n",
    "$f(x) < 0$, если $x \\in (-\\infty; 0) \\cup (0;1)$ \\\n",
    "$f(x) > 0$, если $x \\in (1; +\\infty)$"
   ]
  },
  {
   "cell_type": "markdown",
   "metadata": {},
   "source": [
    "**Интервалы монотонности:**\\\n",
    "\\begin{align} \n",
    "3x^2 - 2x = 0 \\\\\n",
    "3x(x-\\frac{2}{3}) = 0 \\\\\n",
    "x_1 = 0 \\\\\n",
    "x_2 = \\frac{2}{3} \\\\\n",
    "\\end{align}\n",
    "\n",
    "Итак, \\\n",
    "$x_{min} = \\frac{2}{3} \\\\\n",
    "x_{max} = 0$\n",
    "\n",
    "$f(x)$ возрастает при $x \\in (-\\infty;0)\\cup(\\frac{2}{3};+\\infty)$ \\\n",
    "$f(x)$ убывает при $x \\in (0;\\frac{2}{3})$"
   ]
  },
  {
   "cell_type": "markdown",
   "metadata": {},
   "source": [
    "**Четность функции:**\\\n",
    "$f(-x) = (-x)^3 - x^2 = 0$ \\\n",
    "$-f(x) = -x^3 + x^2 = 0$ \n",
    "\n",
    "$f(-x)\\ne f(x),f(-x) \\ne -f(x)$, значит, функция не является чётной или нечётной"
   ]
  },
  {
   "cell_type": "markdown",
   "metadata": {},
   "source": [
    "**Ограниченность:**\\\n",
    "Функция не ограничена"
   ]
  },
  {
   "cell_type": "markdown",
   "metadata": {},
   "source": [
    "**Периодичность:**\\\n",
    "Функция не является периодической"
   ]
  },
  {
   "cell_type": "markdown",
   "metadata": {},
   "source": [
    "### Предел функции"
   ]
  },
  {
   "cell_type": "markdown",
   "metadata": {},
   "source": [
    "**1. Найти предел:**"
   ]
  },
  {
   "cell_type": "markdown",
   "metadata": {},
   "source": [
    "a. $$\\lim_{n \\to 0}\\frac{3x^3-2x^2}{4x^2}$$"
   ]
  },
  {
   "cell_type": "markdown",
   "metadata": {},
   "source": [
    "$\\lim_{n \\to 0}\\frac{3x^3-2x^2}{4x^2} = \\lim_{n \\to 0}\\frac{2x^2(\\frac{3}{2}x-1)}{2\\cdot 2x^2} = \\lim_{n \\to 0}\\frac{1.5x-1}{2} = \\lim_{n \\to 0}0.75x - \\frac{1}{2} = - \\frac{1}{2}$\n",
    "(при $0.75x \\rightarrow 0$) "
   ]
  },
  {
   "cell_type": "markdown",
   "metadata": {},
   "source": [
    "b. $$\\lim_{n \\to 0}\\frac{\\sqrt{1+x}-1}{\\sqrt[3]{1+x}-1}$$"
   ]
  },
  {
   "cell_type": "markdown",
   "metadata": {},
   "source": [
    "$\\lim_{n \\to 0}\\frac{\\sqrt{1+x}-1}{\\sqrt[3]{1+x}-1}$ = $\\lim_{n \\to 0}\\frac{(1+x)^{\\frac{1}{2}}-1}{(1+x)^{\\frac{1}{3}}-1}$"
   ]
  },
  {
   "cell_type": "markdown",
   "metadata": {},
   "source": [
    "т.к. $(1+x)^n\\approx 1+nx$, то:"
   ]
  },
  {
   "cell_type": "markdown",
   "metadata": {},
   "source": [
    "$\\lim_{n\\to 0}\\frac{(1+x)^{\\frac{1}{2}}-1}{(1+x)^{\\frac{1}{3}}-1} = \\\n",
    "=\\lim_{n\\to 0}\\frac{1+\\frac{1}{2}x-1}{1+\\frac{1}{3}x-1} = \\lim_{n\\to 0} \\frac{\\frac{1}{2}x}{\\frac{1}{3}x} = \\frac{3}{2} = 1.5$"
   ]
  },
  {
   "cell_type": "markdown",
   "metadata": {},
   "source": [
    "c. $$\\lim_{n\\to\\infty}\\left(\\frac{x+3}{3}\\right)^{4x+1}$$"
   ]
  },
  {
   "cell_type": "markdown",
   "metadata": {},
   "source": [
    "$\\lim_{n\\to\\infty}\\left(\\frac{x+3}{3}\\right)^{4x+1}=\\lim_{n\\to\\infty}\\left(1+\\frac{3}{x}\\right)^{4x+1}$"
   ]
  },
  {
   "cell_type": "markdown",
   "metadata": {},
   "source": [
    "Пусть $u= 4x+1$, тогда\n",
    "$x = \\frac{u-1}{4}$"
   ]
  },
  {
   "cell_type": "markdown",
   "metadata": {},
   "source": [
    "$\\lim_{n\\to\\infty}\\left(1+\\frac{3\\cdot4}{u-1}\\right)^u = e^{12}$"
   ]
  },
  {
   "cell_type": "markdown",
   "metadata": {},
   "source": [
    "### Теоремы о пределах"
   ]
  },
  {
   "cell_type": "markdown",
   "metadata": {},
   "source": [
    "**1. Найти предел:**"
   ]
  },
  {
   "cell_type": "markdown",
   "metadata": {},
   "source": [
    "a. $\\lim_{n\\to0}\\frac{\\sin{2x}}{4x} = \\frac{1}{2}$"
   ]
  },
  {
   "cell_type": "markdown",
   "metadata": {},
   "source": [
    "b. $\\lim_{n\\to0}\\frac{x}{\\sin{x}} = 1$"
   ]
  },
  {
   "cell_type": "markdown",
   "metadata": {},
   "source": [
    "c. $\\lim_{n\\to0}\\frac{x}{\\arcsin{x}} = 1$"
   ]
  },
  {
   "cell_type": "markdown",
   "metadata": {},
   "source": [
    "d. $\\lim_{n\\to\\infty}\\left(\\frac{4x+3}{4x-3}\\right)^{6x} = \\\n",
    "= \\lim_{n\\to\\infty}\\left(\\frac{4x+3-3+3}{4x-3}\\right)^{6x} = \\\n",
    "= \\lim_{n\\to\\infty}\\left(\\frac{4x-3+6}{4x-3}\\right)^{6x} = \\\n",
    "= \\lim_{n\\to\\infty}\\left(1+\\frac{6}{4x-3}\\right)^{6x}$"
   ]
  },
  {
   "cell_type": "markdown",
   "metadata": {},
   "source": [
    "Пусть $u= 6x$, тогда\n",
    "$x = \\frac{u}{6}$"
   ]
  },
  {
   "cell_type": "markdown",
   "metadata": {},
   "source": [
    "$\\lim_{n\\to\\infty}\\left(1+\\frac{6}{\\frac{2}{3}(u-3)}\\right)^{u} = \\\n",
    "= \\lim_{n\\to\\infty}\\left(1+\\frac{6}{\\frac{2}{3}u-4.5}\\right)^{u} = \\\n",
    "= \\lim_{n\\to\\infty}\\left(1+\\frac{9}{u-4.5}\\right)^{u} = e^9$"
   ]
  },
  {
   "cell_type": "markdown",
   "metadata": {},
   "source": [
    "e. $\\lim_{n\\to\\infty}\\frac{\\sin{x}+\\ln{x}}{x} = 0 + 0 = 0$"
   ]
  },
  {
   "cell_type": "markdown",
   "metadata": {},
   "source": [
    "f. $\\lim_{n\\to0}\\frac{\\sin{x}+\\ln{x}}{x} = 1 + \\infty = \\infty $"
   ]
  }
 ],
 "metadata": {
  "kernelspec": {
   "display_name": "Python 3",
   "language": "python",
   "name": "python3"
  },
  "language_info": {
   "codemirror_mode": {
    "name": "ipython",
    "version": 3
   },
   "file_extension": ".py",
   "mimetype": "text/x-python",
   "name": "python",
   "nbconvert_exporter": "python",
   "pygments_lexer": "ipython3",
   "version": "3.8.1"
  }
 },
 "nbformat": 4,
 "nbformat_minor": 4
}

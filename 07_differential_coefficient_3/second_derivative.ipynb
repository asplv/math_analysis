{
 "cells": [
  {
   "cell_type": "markdown",
   "metadata": {},
   "source": [
    "### Производная функции нескольких переменных. Градиент. Производная по произвольнному направлению. Апроксимация"
   ]
  },
  {
   "cell_type": "markdown",
   "metadata": {},
   "source": [
    "**1. Найти частные производные первого и второго порядка. Убедиться в равенстве смешанных производных**\n",
    "\n",
    "### $$U=x^3+3xy^2+z^2-39x-36y+2z+26$$"
   ]
  },
  {
   "cell_type": "markdown",
   "metadata": {},
   "source": [
    "$U'_{x}= 3x^2 +3y^2 - 39$\n",
    "\n",
    "$U'_{y}=6xy-36$\n",
    "\n",
    "$U'_{z}=2z+2$\n",
    "\n",
    "\n",
    "$U''_{xx}=6x$\n",
    "\n",
    "$U''_{xy}=6y$\n",
    "\n",
    "$U''_{xz}=0$\n",
    "\n",
    "\n",
    "$U''_{yy}=6x$\n",
    "\n",
    "$U''_{yx}=6y$\n",
    "\n",
    "$U''_{yz}=0$\n",
    "\n",
    "\n",
    "$U''_{zz}=2$\n",
    "\n",
    "$U''_{zx}=0$\n",
    "\n",
    "$U''_{zy}=0$\n",
    "\n",
    "\n",
    "Проверка равенства смешанных производных:\n",
    "\n",
    "$U''_{xy}= U''_{yx}= 6y$\n",
    "\n",
    "$U''_{xz}=U''_{zx}=0$\n",
    "\n",
    "$U''_{yz}=U''_{zy}=0$"
   ]
  },
  {
   "cell_type": "markdown",
   "metadata": {},
   "source": [
    "**2. Найти частные производные первого и второго порядка. Убедиться в равенстве смешанных производных.**\n",
    "\n",
    "### $$U=\\frac{256}{x}+\\frac{x^2}{y}+\\frac{y^2}{z}+z^2$$"
   ]
  },
  {
   "cell_type": "markdown",
   "metadata": {},
   "source": [
    "$U=256x^{-1} + x^2y^{-1}+y^2z^{-1}+z^2$"
   ]
  },
  {
   "cell_type": "markdown",
   "metadata": {},
   "source": [
    "$U'=256x^{-1} + x^2y^{-1}+y^2z^{-1}+z^2$\n",
    "\n",
    "\n",
    "$U'_{x}= -256x^{-2} +2xy^{-1}$\n",
    "\n",
    "$U'_{y}=-x^2y^{-2}+2yz^{-1}$\n",
    "\n",
    "$U'_{z}=-z^{-2}y^2 +2z$\n",
    "\n",
    "\n",
    "\n",
    "$U''_{xx}=512x^{-3} + 2y^{-1}$\n",
    "\n",
    "$U''_{xy}=-2xy^{-2}$\n",
    "\n",
    "$U''_{xz}=0$\n",
    "\n",
    "\n",
    "$U''_{yy}=2x^2y^{-3}+2z^{-1}$\n",
    "\n",
    "$U''_{yx}=-2xy^{-2}$\n",
    "\n",
    "$U''_{yz}=-2yz^{-2}$\n",
    "\n",
    "\n",
    "$U''_{zz}=2zy^{-2} +2 $\n",
    "\n",
    "$U''_{zx}=0$\n",
    "\n",
    "$U''_{zy}=-2yz^{-2}$\n",
    "\n",
    "\n",
    "Проверка равенства смешанных производных:\n",
    "\n",
    "$U''_{xy}= U''_{yx}= -2xy^{-2}$\n",
    "\n",
    "$U''_{xz}=U''_{zx}=0$\n",
    "\n",
    "$U''_{yz}=U''_{zy}=-2yz^{-2}$"
   ]
  },
  {
   "cell_type": "markdown",
   "metadata": {},
   "source": [
    "**3. Найти производную функции $U=x^2+y^2+z^2$ по направлению вектора $\\overrightarrow{c}(-9,8,-12)$ в точке $M(8,-12,9)$**"
   ]
  },
  {
   "cell_type": "markdown",
   "metadata": {},
   "source": [
    "1) Найдем $\\overrightarrow{c_{0}}$:\n",
    "\n",
    "$|\\overrightarrow{c}| = \\sqrt{81+64+144} = \\sqrt{298} = 17 $\n",
    "\n",
    "### $\\overrightarrow c_0 = \\frac{\\overrightarrow{c}}{|\\overrightarrow{c}|} = \\left(-\\frac{9}{17}, \\frac{8}{17}, -\\frac{12}{17}\\right)$ \n",
    "\n",
    "2) Найдем $gradU$ в точке $𝑀(8,−12,9)$:\n",
    "\n",
    "$U'_{x}=2x$\n",
    "\n",
    "$U'_{y}=2y$\n",
    "\n",
    "$U'_{z}=2z$\n",
    "\n",
    "$gradU = (16, -24, 18)$\n",
    "\n",
    "\n",
    "3) Найдем $U'_{\\overrightarrow{c}}$ в точке $M$:\n",
    "\n",
    "$U'_{\\overrightarrow{c}} = \\overrightarrow c_0  \\cdot gradU$\n",
    "\n",
    "\n",
    "### $U'_{\\overrightarrow{c}} = \\left(-\\frac{9}{17}, \\frac{8}{17}, -\\frac{12}{17}\\right)  \\cdot (16, -24, 18) = \\frac{-9 \\cdot 16}{17} + \\frac{-8 \\cdot 24}{17} + \\frac{-12 \\cdot 18}{17} = \\frac{-144-192-216}{17} = \\frac{552}{17}$"
   ]
  },
  {
   "cell_type": "markdown",
   "metadata": {},
   "source": [
    "**4. Найти производную функции $U=e^{x^2+y^2+z^2}$ по направлению вектора $\\overrightarrow{c}(4,-13,-16)$ в точке $L(-16,4,-13)$**"
   ]
  },
  {
   "cell_type": "markdown",
   "metadata": {},
   "source": [
    "1) Найдем $\\overrightarrow{c_{0}}$:\n",
    "\n",
    "$|\\overrightarrow{c}| = \\sqrt{16+169+256} = \\sqrt{441} = 21 $\n",
    "\n",
    "### $\\overrightarrow c_0 = \\frac{\\overrightarrow{c}}{|\\overrightarrow{c}|} = \\left(\\frac{4}{21}, -\\frac{13}{21}, -\\frac{16}{21}\\right)$ \n",
    "\n",
    "2) Найдем $gradU$ в точке $L(-16,4,-13)$:\n",
    "\n",
    "$U'_{x}=e^{x^2+y^2+z^2} \\cdot 2x = -32e^{441}$\n",
    "\n",
    "$U'_{y}=e^{x^2+y^2+z^2} \\cdot 2y = 8e^{441}$\n",
    "\n",
    "$U'_{z}=e^{x^2+y^2+z^2} \\cdot 2z = -26e^{441}$\n",
    "\n",
    "$gradU = (-32e^{441}, 8e^{441}, -26e^{441})$\n",
    "\n",
    "\n",
    "3) Найдем $U'_{\\overrightarrow{c}}$ в точке $M$:\n",
    "\n",
    "$U'_{\\overrightarrow{c}} = \\overrightarrow c_0  \\cdot gradU$\n",
    "\n",
    "\n",
    "### $U'_{\\overrightarrow{c}} = \\left(\\frac{4}{21}, -\\frac{13}{21}, -\\frac{16}{21}\\right)  \\cdot (-32e^{441}, 8e^{441}, -26e^{441}) = \\frac{4 \\cdot (-32e^{441})}{21} + \\frac{-13 \\cdot 8e^{441}}{21} + \\frac{16 \\cdot (-26e^{441})}{21} =$\n",
    "\n",
    "###  $= \\frac{e^{441}(-128-104-416)}{21} = -\\frac{648}{21}e^{441} = -\\frac{216}{7}e^{441}$"
   ]
  },
  {
   "cell_type": "markdown",
   "metadata": {},
   "source": [
    "**5. Найти производную функции $U=\\log_{21}(x^2+y^2+z^2)$ в точке $F(-19,8,-4)$ по самому быстрому направлению.**"
   ]
  },
  {
   "cell_type": "markdown",
   "metadata": {},
   "source": [
    "$U=\\log_{21}(x^2+y^2+z^2)$\n",
    "\n",
    "$U'_{gradU} = gradU_0  \\cdot gradU$\n",
    "\n",
    "\n",
    "1) Найдем $gradU$ в точке $F(-19,8,-4)$:\n",
    "\n",
    "$U'_{x}=\\frac{2x}{441\\ln 21}$\n",
    "\n",
    "$U'_{y}=\\frac{2y}{441\\ln 21}$\n",
    "\n",
    "$U'_{z}=\\frac{2z}{441\\ln 21}$\n",
    "\n",
    "$gradU = (\\frac{-38}{441\\ln 21}, \\frac{16}{441\\ln 21}, \\frac{-8}{441\\ln 21})$\n",
    "\n",
    "\n",
    "$ |gradU| = \\sqrt{(\\frac{-38}{441\\ln 21})^2 + (\\frac{16}{441\\ln 21})^2 + (\\frac{-8}{441\\ln 21})^2} = \\sqrt{\\frac{1444+256+64}{(441\\ln 21)^2}} = \\sqrt{\\frac{1764}{(441\\ln 21)^2}} =  \\sqrt{\\frac{4}{(21\\ln 21)^2}} =\\frac{2}{21 \\ln 21} $\n",
    "\n",
    "\n",
    "$gradU_0 = \\frac{gradU}{|gradU|} =  (\\frac{-38}{441\\ln 21} \\cdot \\frac{21 \\ln 21}{2}, \\frac{16}{441\\ln 21} \\cdot \\frac{21 \\ln 21}{2}, \\frac{-8}{441\\ln 21} \\cdot \\frac{21 \\ln 21}{2}) = (-\\frac{19}{21},\\frac{16}{21}, -\\frac{4}{21})$\n",
    "\n",
    "\n",
    "3) Найдем $U'_{gradU}$ в точке $F$:\n",
    "\n",
    "$U'_{gradU} = gradU_0  \\cdot gradU$\n",
    "\n",
    "\n",
    "$U'_{gradU} = -\\frac{19}{21} \\cdot \\frac{-38}{441\\ln 21} + \\frac{16}{21} \\cdot \\frac{16}{441\\ln 21} +   \\frac{-4}{21}\\cdot \\frac{-8}{441\\ln 21} = \\frac{722 + 128 + 32}{21 \\cdot 441\\ln 21} = \\frac{822}{21 \\cdot 441\\ln 21} = \\frac{2}{21 \\ln 21} $"
   ]
  },
  {
   "cell_type": "markdown",
   "metadata": {},
   "source": [
    "**6. Исследовать на экстремум функцию:**\n",
    "\n",
    "### $$U=x^2y+\\frac{1}{3}y^3+2x^2+3y^2-1$$"
   ]
  },
  {
   "cell_type": "markdown",
   "metadata": {},
   "source": [
    "1) Ищем частные производные:\n",
    "\n",
    "$U'_{x}=2xy + 4x $\n",
    "\n",
    "$U'_{y}=x^2 + y^2 + 6y$\n",
    "\n",
    "2) Приравниваем частные производные к нулю и ищем стационарные точки:\n",
    "\n",
    "\n",
    "$\\begin{cases}\n",
    "   U'_{x}=2xy + 4x =0; \\\\\n",
    "   U'_{y}=x^2 + y^2 + 6y =0 \n",
    " \\end{cases}$\n",
    " \n",
    " \n",
    "$\\begin{cases}\n",
    "   x(y + 2) = 0; \\\\\n",
    "   x = \\pm\\sqrt{-y^2 - 6y} \n",
    " \\end{cases}$\n",
    " \n",
    " $\\begin{cases}\n",
    "   \\pm\\sqrt{-y^2 - 6y} \\cdot (y + 2) = 0; (1)\\\\\n",
    "   x = \\pm\\sqrt{-y^2 - 6y} \n",
    " \\end{cases}$\n",
    " \n",
    "$\\pm\\sqrt{-y^2 - 6y} = 0$\n",
    "\n",
    "$-y^2 - 6y=0$\n",
    "    \n",
    "$-y(y + 6)=0$\n",
    "    \n",
    "$y_1 = 0$, $x_1 = 0$\n",
    "    \n",
    "$y_2 = -6$, $x_2 = 0$\n",
    "   \n",
    "$y + 2 = 0$\n",
    "    \n",
    "$y_3 = -2$, $x_3 = \\pm \\sqrt{8}$\n",
    "    \n",
    "Стационарные точки: $(0,0), (0, -6), (\\sqrt{8}, -2), (-\\sqrt{8}, -2)$\n",
    "\n",
    "\n",
    "3) Ищем вторые производные:\n",
    "\n",
    "$U''_{xx}=2y+4$\n",
    "\n",
    "$U''_{xy}=2x$\n",
    "\n",
    "$U''_{yy}=2y+6$\n",
    "\n",
    "\n",
    "4) Составляем матрицу Гёссе:\n",
    "\n",
    "$\\begin{vmatrix}\n",
    "2y+4 & 2x\\\\ \n",
    "2x & 2y+6\\\\\n",
    "\\end{vmatrix}$\n",
    "\n",
    "5) Определяем миноры для точек:\n",
    "\n",
    "- $(0,0)$\n",
    "\n",
    "$\\Delta_{1} = 2y+4 = 4 > 0$ \n",
    "\n",
    "$\\Delta_{2} = (2y+4)(2y+6) - 4x^2 = 24-0 > 0$ => точка $(0,0) - \\min$\n",
    "\n",
    "- $(0,-6)$\n",
    "\n",
    "$\\Delta_{1} = 2y+4 = -8 < 0$ \n",
    "\n",
    "$\\Delta_{2} = (2y+4)(2y+6) - 4x^2 = 48-0 > 0$ => точка $(0,-6) - \\max$\n",
    "\n",
    "\n",
    "- $(\\pm\\sqrt{8},-2)$\n",
    "\n",
    "$\\Delta_{1} = 2y+4 = 0$ => $ при y = -2$ матрица Гёссе не работает, не можем изучить\n"
   ]
  },
  {
   "cell_type": "markdown",
   "metadata": {},
   "source": [
    "**7. Исследовать на экстремум функцию:**\n",
    "\n",
    "### $$U=e^{-\\frac{x}{2}}\\cdot(x^2+y^2)$$"
   ]
  }
 ],
 "metadata": {
  "kernelspec": {
   "display_name": "Python 3",
   "language": "python",
   "name": "python3"
  },
  "language_info": {
   "codemirror_mode": {
    "name": "ipython",
    "version": 3
   },
   "file_extension": ".py",
   "mimetype": "text/x-python",
   "name": "python",
   "nbconvert_exporter": "python",
   "pygments_lexer": "ipython3",
   "version": "3.8.1"
  }
 },
 "nbformat": 4,
 "nbformat_minor": 4
}

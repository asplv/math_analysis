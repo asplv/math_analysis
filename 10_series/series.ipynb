{
 "cells": [
  {
   "cell_type": "markdown",
   "metadata": {},
   "source": [
    "Анастасия Плавина\n",
    "\n",
    "### Тема: Ряды. Исследование на сходимость. Ряд Маклорена и Фурье."
   ]
  },
  {
   "cell_type": "markdown",
   "metadata": {},
   "source": [
    "**1. Исследовать сходимость ряда.**\n",
    "\n",
    "\n",
    "### $$\\frac{1}{2\\sqrt2}+\\frac{1}{3\\sqrt3}+\\,...\\,+\\frac{1}{(n+1)\\sqrt{n+1}}+\\,...\\,=\\sum\\limits_{n=1}^{+\\infty}\\frac{1}{(n+1)\\sqrt{n+1}}$$\n",
    "\n",
    "(*) Двумя различными признаками."
   ]
  },
  {
   "cell_type": "markdown",
   "metadata": {},
   "source": [
    "Знакопостоянный ряд.\n",
    "\n",
    "1) Проверяем общий член:\n",
    "\n",
    "$\\lim_{n \\to +\\infty} \\frac{1}{n+1\\sqrt{n+1}} = \\frac{1}{\\infty} = 0$ => необходимое условие сходимости выполняется, исследуем дальше.\n",
    "\n",
    "2) Признак д'Аламбера:\n",
    "\n",
    "$\\lim_{n \\to +\\infty} \\frac{a_{n+1}}{a_n} = q$\n",
    "\n",
    "$\\lim_{n \\to +\\infty} \\frac{1}{(n+1)\\sqrt{n+1}} : \\frac{1}{n\\sqrt{n}} = \\lim_{n \\to +\\infty} \\frac{n\\sqrt{n}}{(n+1)\\sqrt{n+1}} = 1$ => критерий не работает\n",
    "\n",
    "3) Второй признак сравнения\n",
    "\n",
    "$\\frac{1}{n\\sqrt{n}} = \\frac{1}{n^{1.5}}$\n",
    "\n",
    "$1.5 > 1$ => ряд сходится\n",
    "\n",
    "4) Радикальный признак Коши\n",
    "\n",
    "$\\lim_{n \\to +\\infty} \\sqrt[n]{a_n}= q$\n",
    "\n",
    "$\\lim_{n \\to +\\infty} \\sqrt[n]{\\frac{1}{n\\sqrt{n}}}= (\\frac{1}{n^{1.5}})^{\\frac{1}{n}} = 1$ => радикальный признак Коши не работает\n",
    "\n",
    "5) Интегральный признак Коши\n",
    "\n",
    "\n",
    "$\\int \\limits_1^{+\\infty} \\frac{1}{x\\sqrt{x}}\\, dx$\n",
    "\n",
    "$\\int \\frac{dx}{x\\sqrt{x}} = \\int \\frac{d}{\\sqrt{x}} = \\frac{1}{\\sqrt{x}} + C$\n",
    "\n",
    "$\\int \\limits_1^{+\\infty} \\frac{1}{x\\sqrt{x}}\\, dx = \\frac{1}{\\sqrt{b}} - \\frac{1}{\\sqrt{1}} = \\frac{1}{\\infty} - 1 = -1$ => предел сходится => ряд сходится\n"
   ]
  },
  {
   "cell_type": "markdown",
   "metadata": {},
   "source": [
    "**2. Исследовать сходимость ряда**\n",
    "\n",
    "### $$\\frac{1000}{1!}+\\frac{1000^2}{2!}+\\,...\\,+\\frac{1000^n}{n!}+\\,...\\,=\\sum\\limits_{n=1}^{+\\infty}\\frac{1000^n}{n!}$$"
   ]
  },
  {
   "cell_type": "markdown",
   "metadata": {},
   "source": [
    "Знакопостоянный ряд.\n",
    "\n",
    "1) Проверяем общий член:\n",
    "\n",
    "$\\lim_{n \\to +\\infty} \\frac{1000^n}{n!} = 0$ => необходимое условие сходимости выполняется, исследуем дальше.\n",
    "\n",
    "2) Признак д'Аламбера:\n",
    "\n",
    "$\\lim_{n \\to +\\infty} \\frac{a_{n+1}}{a_n} = q$\n",
    "\n",
    "$\\lim_{n \\to +\\infty} \\frac{1000^{n+1}}{(n+1)!} : \\frac{1000^n}{n!} = \\lim_{n \\to +\\infty} \\frac{1000^{n+1} \\cdot n!}{1000^n \\cdot (n+1)!} = \\lim_{n \\to +\\infty} \\frac{1000}{n+1} = 0 < 1$ => ряд сходится \n",
    "\n",
    "3) Второй признак сравнения\n",
    "\n",
    "Сравним $\\frac{1}{n^p}$ и $\\frac{1000^n}{n!}$\n",
    "\n",
    "$a_n = \\frac{1000^n}{n!}$\n",
    "\n",
    "$b_n = \\frac{1}{n^p}$\n",
    "\n",
    "Если $\\lim_{n \\to \\infty}\\frac{a_n}{b_n} = 0$ => ряд $a_n$ cходится\n",
    "\n",
    "$ \\lim_{n \\to +\\infty} \\frac{1000^n}{n!} : \\frac{1}{n^p} = \\lim_{n \\to +\\infty}\\frac{1000^n \\cdot n^p}{n!} = 0 $ => ряд cходится\n"
   ]
  },
  {
   "cell_type": "markdown",
   "metadata": {},
   "source": [
    "**3. Исследовать сходимость ряда**\n",
    "\n",
    "### $$\\frac{2\\cdot1!}{1}+\\frac{2^2\\cdot2!}{2^2}+\\,...\\,+\\frac{2^n\\cdot n!}{n^n}+\\,...\\,=\\sum\\limits_{n=1}^{+\\infty}\\frac{2^n\\cdot n!}{n^n}$$"
   ]
  },
  {
   "cell_type": "markdown",
   "metadata": {},
   "source": [
    "Знакопостоянный ряд.\n",
    "\n",
    "1) Проверяем общий член:\n",
    "\n",
    "Заменим $n!$ на $\\frac{\\sqrt{n}\\cdot n^n}{e^n}$ по формуле Стирлинга\n",
    "\n",
    "$\\lim_{n \\to +\\infty} \\frac{2^n\\cdot \\sqrt{n}\\cdot n^n}{n^n \\cdot {e}^n} = \\frac{\\sqrt{n}}{(\\frac{e}{2})^n} = 0$, т.к $\\frac{e}{2} > 1$ => необходимое условие сходимости выполняется, исследуем дальше.\n",
    "\n",
    "2) Признак д'Аламбера:\n",
    "\n",
    "$\\lim_{n \\to +\\infty} \\frac{a_{n+1}}{a_n} = q$\n",
    "\n",
    "$\\lim_{n \\to +\\infty} \\frac{2^{n+1}\\cdot (n+1)!}{(n+1)^{n+1}} : \\frac{2^n\\cdot n!}{n^n} = \\lim_{n \\to +\\infty} \\frac{2^{n+1}\\cdot (n+1)! \\cdot n^n}{(n+1)^{n+1} \\cdot 2^n\\cdot n!} = \\lim_{n \\to +\\infty} \\frac{2(n+1) \\cdot n^n}{(n+1)^n \\cdot (n+1)}=$\n",
    "\n",
    "$= \\lim_{n \\to +\\infty} \\frac{2n^n}{(n+1)^n} =  \\lim_{n \\to +\\infty} \\frac{2n^n \\cdot \\frac{1}{n^n}}{(n+1)^n \\cdot \\frac{1}{n^n}} = \\lim_{n \\to +\\infty} \\frac{2}{(1+\\frac{1}{n})^n} = \\lim_{n \\to +\\infty} \\frac{2}{e} < 1$ => ряд сходится\n"
   ]
  },
  {
   "cell_type": "markdown",
   "metadata": {},
   "source": [
    "**4. Исследовать сходимость ряда**\n",
    "\n",
    "### $$\\frac{3\\cdot1!}{1}+\\frac{3^2\\cdot2!}{2^2}+\\,...\\,+\\frac{3^n\\cdot n!}{n^n}+\\,...\\,=\\sum\\limits_{n=1}^{+\\infty}\\frac{3^n\\cdot n!}{n^n}$$"
   ]
  },
  {
   "cell_type": "markdown",
   "metadata": {},
   "source": [
    "Знакопостоянный ряд.\n",
    "\n",
    "1) Проверяем общий член:\n",
    "\n",
    "Заменим $n!$ на $\\frac{\\sqrt{n}\\cdot n^n}{e^n}$ по формуле Стирлинга\n",
    "\n",
    "$\\lim_{n \\to +\\infty} \\frac{3^n\\cdot \\sqrt{n}\\cdot n^n}{n^n \\cdot {e}^n} = \\frac{\\sqrt{n}}{(\\frac{e}{3})^n} = \\infty $, т.к $\\frac{e}{3} < 1$ => необходимое условие сходимости не выполняется, исследуем дальше.\n",
    "\n",
    "2) Признак д'Аламбера:\n",
    "\n",
    "$\\lim_{n \\to +\\infty} \\frac{a_{n+1}}{a_n} = q$\n",
    "\n",
    "$\\lim_{n \\to +\\infty} \\frac{3^{n+1}\\cdot (n+1)!}{(n+1)^{n+1}} : \\frac{3^n\\cdot n!}{n^n} = \\lim_{n \\to +\\infty} \\frac{3^{n+1}\\cdot (n+1)! \\cdot n^n}{(n+1)^{n+1} \\cdot 3^n\\cdot n!} = \\lim_{n \\to +\\infty} \\frac{3(n+1) \\cdot n^n}{(n+1)^n \\cdot (n+1)}=$\n",
    "\n",
    "$= \\lim_{n \\to +\\infty} \\frac{3n^n}{(n+1)^n} =  \\lim_{n \\to +\\infty} \\frac{3n^n \\cdot \\frac{1}{n^n}}{(n+1)^n \\cdot \\frac{1}{n^n}} = \\lim_{n \\to +\\infty} \\frac{3}{(1+\\frac{1}{n})^n} = \\lim_{n \\to +\\infty} \\frac{3}{e} > 1$ => ряд расходится"
   ]
  },
  {
   "cell_type": "markdown",
   "metadata": {},
   "source": [
    "**5. Исследовать сходимость ряда**\n",
    "\n",
    "### $$-\\frac{\\sqrt1}{101}+\\frac{\\sqrt2}{102}-\\,...\\,+\\frac{(-1)^n\\sqrt n}{n+100}+\\,...\\,=\\sum\\limits_{n=1}^{+\\infty}\\frac{(-1)^n\\sqrt n}{n+100}$$"
   ]
  },
  {
   "cell_type": "markdown",
   "metadata": {},
   "source": [
    "Знакопеременный ряд.\n",
    "\n",
    "Признак Лейбница - проверяем сходимость по модулю.\n",
    "Второй признак сравнения:\n",
    "\n",
    "$|\\frac{(-1)^n\\sqrt n}{n+100}| = |\\frac{\\sqrt n}{n+100}| = |\\frac{\\sqrt n}{n}| = |\\frac{1}{\\sqrt n}| = |\\frac{1}{n^{\\frac{1}{2}}}|$\n",
    "\n",
    "\n",
    "Сравним $\\frac{1}{n^p}$ и $|\\frac{1}{n^{\\frac{1}{2}}}| - \\frac{1}{2} < 1$ => ряд по модулю расходится => знакопеременный ряд условно сходится"
   ]
  },
  {
   "cell_type": "markdown",
   "metadata": {},
   "source": [
    "**6. Разложить функцию $y=e^x$ в ряд Маклорена, а так же в ряд Фурье на отрезке $[-\\pi, \\pi]$. Построить график функции и разложений.**"
   ]
  },
  {
   "cell_type": "code",
   "execution_count": null,
   "metadata": {},
   "outputs": [],
   "source": []
  }
 ],
 "metadata": {
  "kernelspec": {
   "display_name": "Python 3",
   "language": "python",
   "name": "python3"
  },
  "language_info": {
   "codemirror_mode": {
    "name": "ipython",
    "version": 3
   },
   "file_extension": ".py",
   "mimetype": "text/x-python",
   "name": "python",
   "nbconvert_exporter": "python",
   "pygments_lexer": "ipython3",
   "version": "3.8.1"
  }
 },
 "nbformat": 4,
 "nbformat_minor": 4
}

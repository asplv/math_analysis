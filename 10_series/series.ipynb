{
 "cells": [
  {
   "cell_type": "markdown",
   "metadata": {},
   "source": [
    "Анастасия Плавина\n",
    "\n",
    "### Тема: Ряды. Исследование на сходимость. Ряд Маклорена и Фурье."
   ]
  },
  {
   "cell_type": "markdown",
   "metadata": {},
   "source": [
    "**1. Исследовать сходимость ряда.**\n",
    "\n",
    "\n",
    "### $$\\frac{1}{2\\sqrt2}+\\frac{1}{3\\sqrt3}+\\,...\\,+\\frac{1}{(n+1)\\sqrt{n+1}}+\\,...\\,=\\sum\\limits_{n=1}^{+\\infty}\\frac{1}{(n+1)\\sqrt{n+1}}$$\n",
    "\n",
    "(*) Двумя различными признаками."
   ]
  },
  {
   "cell_type": "markdown",
   "metadata": {},
   "source": [
    "Знакопостоянный ряд.\n",
    "\n",
    "1) Проверяем общий член:\n",
    "\n",
    "$\\lim_{n \\to +\\infty} \\frac{1}{n+1\\sqrt{n+1}} = \\frac{1}{\\infty} = 0$ => необходимое условие сходимости выполняется, исследуем дальше.\n",
    "\n",
    "2) Признак д'Аламбера:\n",
    "\n",
    "$\\lim_{n \\to +\\infty} \\frac{a_{n+1}}{a_n} = q$\n",
    "\n",
    "$\\lim_{n \\to +\\infty} \\frac{1}{(n+1)\\sqrt{n+1}} : \\frac{1}{n\\sqrt{n}} = \\lim_{n \\to +\\infty} \\frac{n\\sqrt{n}}{(n+1)\\sqrt{n+1}} = 1$ => критерий не работает\n",
    "\n",
    "3) Второй признак сравнения\n",
    "\n",
    "$\\frac{1}{n\\sqrt{n}} = \\frac{1}{n^{1.5}}$\n",
    "\n",
    "$1.5 > 1$ => ряд сходится\n",
    "\n",
    "4) Радикальный признак Коши\n",
    "\n",
    "$\\lim_{n \\to +\\infty} \\sqrt[n]{a_n}= q$\n",
    "\n",
    "$\\lim_{n \\to +\\infty} \\sqrt[n]{\\frac{1}{n\\sqrt{n}}}= (\\frac{1}{n^{1.5}})^{\\frac{1}{n}} = 1$ => радикальный признак Коши не работает\n",
    "\n",
    "5) Интегральный признак Коши\n",
    "\n",
    "\n",
    "$\\int \\limits_1^{+\\infty} \\frac{1}{x\\sqrt{x}}\\, dx$\n",
    "\n",
    "$\\int \\frac{dx}{x\\sqrt{x}} = \\int \\frac{d}{\\sqrt{x}} = \\frac{1}{\\sqrt{x}} + C$\n",
    "\n",
    "$\\int \\limits_1^{+\\infty} \\frac{1}{x\\sqrt{x}}\\, dx = \\frac{1}{\\sqrt{b}} - \\frac{1}{\\sqrt{1}} = \\frac{1}{\\infty} - 1 = -1$ => предел сходится => ряд сходится\n"
   ]
  },
  {
   "cell_type": "markdown",
   "metadata": {},
   "source": [
    "**2. Исследовать сходимость ряда**\n",
    "\n",
    "### $$\\frac{1000}{1!}+\\frac{1000^2}{2!}+\\,...\\,+\\frac{1000^n}{n!}+\\,...\\,=\\sum\\limits_{n=1}^{+\\infty}\\frac{1000^n}{n!}$$"
   ]
  },
  {
   "cell_type": "markdown",
   "metadata": {},
   "source": [
    "Знакопостоянный ряд.\n",
    "\n",
    "1) Проверяем общий член:\n",
    "\n",
    "$\\lim_{n \\to +\\infty} \\frac{1000^n}{n!} = 0$ => необходимое условие сходимости выполняется, исследуем дальше.\n",
    "\n",
    "2) Признак д'Аламбера:\n",
    "\n",
    "$\\lim_{n \\to +\\infty} \\frac{a_{n+1}}{a_n} = q$\n",
    "\n",
    "$\\lim_{n \\to +\\infty} \\frac{1000^{n+1}}{(n+1)!} : \\frac{1000^n}{n!} = \\lim_{n \\to +\\infty} \\frac{1000^{n+1} \\cdot n!}{1000^n \\cdot (n+1)!} = \\lim_{n \\to +\\infty} \\frac{1000}{n+1} = 0 < 1$ => ряд сходится \n",
    "\n",
    "3) Второй признак сравнения\n",
    "\n",
    "Сравним $\\frac{1}{n^p}$ и $\\frac{1000^n}{n!}$\n",
    "\n",
    "$a_n = \\frac{1000^n}{n!}$\n",
    "\n",
    "$b_n = \\frac{1}{n^p}$\n",
    "\n",
    "Если $\\lim_{n \\to \\infty}\\frac{a_n}{b_n} = 0$ => ряд $a_n$ cходится\n",
    "\n",
    "$ \\lim_{n \\to +\\infty} \\frac{1000^n}{n!} : \\frac{1}{n^p} = \\lim_{n \\to +\\infty}\\frac{1000^n \\cdot n^p}{n!} = 0 $ => ряд cходится\n"
   ]
  },
  {
   "cell_type": "markdown",
   "metadata": {},
   "source": [
    "**3. Исследовать сходимость ряда**\n",
    "\n",
    "### $$\\frac{2\\cdot1!}{1}+\\frac{2^2\\cdot2!}{2^2}+\\,...\\,+\\frac{2^n\\cdot n!}{n^n}+\\,...\\,=\\sum\\limits_{n=1}^{+\\infty}\\frac{2^n\\cdot n!}{n^n}$$"
   ]
  },
  {
   "cell_type": "markdown",
   "metadata": {},
   "source": [
    "Знакопостоянный ряд.\n",
    "\n",
    "1) Проверяем общий член:\n",
    "\n",
    "Заменим $n!$ на $\\frac{\\sqrt{n}\\cdot n^n}{e^n}$ по формуле Стирлинга\n",
    "\n",
    "$\\lim_{n \\to +\\infty} \\frac{2^n\\cdot \\sqrt{n}\\cdot n^n}{n^n \\cdot {e}^n} = \\frac{\\sqrt{n}}{(\\frac{e}{2})^n} = 0$, т.к $\\frac{e}{2} > 1$ => необходимое условие сходимости выполняется, исследуем дальше.\n",
    "\n",
    "2) Признак д'Аламбера:\n",
    "\n",
    "$\\lim_{n \\to +\\infty} \\frac{a_{n+1}}{a_n} = q$\n",
    "\n",
    "$\\lim_{n \\to +\\infty} \\frac{2^{n+1}\\cdot (n+1)!}{(n+1)^{n+1}} : \\frac{2^n\\cdot n!}{n^n} = \\lim_{n \\to +\\infty} \\frac{2^{n+1}\\cdot (n+1)! \\cdot n^n}{(n+1)^{n+1} \\cdot 2^n\\cdot n!} = \\lim_{n \\to +\\infty} \\frac{2(n+1) \\cdot n^n}{(n+1)^n \\cdot (n+1)}=$\n",
    "\n",
    "$= \\lim_{n \\to +\\infty} \\frac{2n^n}{(n+1)^n} =  \\lim_{n \\to +\\infty} \\frac{2n^n \\cdot \\frac{1}{n^n}}{(n+1)^n \\cdot \\frac{1}{n^n}} = \\lim_{n \\to +\\infty} \\frac{2}{(1+\\frac{1}{n})^n} = \\lim_{n \\to +\\infty} \\frac{2}{e} < 1$ => ряд сходится\n"
   ]
  },
  {
   "cell_type": "markdown",
   "metadata": {},
   "source": [
    "**4. Исследовать сходимость ряда**\n",
    "\n",
    "### $$\\frac{3\\cdot1!}{1}+\\frac{3^2\\cdot2!}{2^2}+\\,...\\,+\\frac{3^n\\cdot n!}{n^n}+\\,...\\,=\\sum\\limits_{n=1}^{+\\infty}\\frac{3^n\\cdot n!}{n^n}$$"
   ]
  },
  {
   "cell_type": "markdown",
   "metadata": {},
   "source": [
    "Знакопостоянный ряд.\n",
    "\n",
    "1) Проверяем общий член:\n",
    "\n",
    "Заменим $n!$ на $\\frac{\\sqrt{n}\\cdot n^n}{e^n}$ по формуле Стирлинга\n",
    "\n",
    "$\\lim_{n \\to +\\infty} \\frac{3^n\\cdot \\sqrt{n}\\cdot n^n}{n^n \\cdot {e}^n} = \\frac{\\sqrt{n}}{(\\frac{e}{3})^n} = \\infty $, т.к $\\frac{e}{3} < 1$ => необходимое условие сходимости не выполняется, исследуем дальше.\n",
    "\n",
    "2) Признак д'Аламбера:\n",
    "\n",
    "$\\lim_{n \\to +\\infty} \\frac{a_{n+1}}{a_n} = q$\n",
    "\n",
    "$\\lim_{n \\to +\\infty} \\frac{3^{n+1}\\cdot (n+1)!}{(n+1)^{n+1}} : \\frac{3^n\\cdot n!}{n^n} = \\lim_{n \\to +\\infty} \\frac{3^{n+1}\\cdot (n+1)! \\cdot n^n}{(n+1)^{n+1} \\cdot 3^n\\cdot n!} = \\lim_{n \\to +\\infty} \\frac{3(n+1) \\cdot n^n}{(n+1)^n \\cdot (n+1)}=$\n",
    "\n",
    "$= \\lim_{n \\to +\\infty} \\frac{3n^n}{(n+1)^n} =  \\lim_{n \\to +\\infty} \\frac{3n^n \\cdot \\frac{1}{n^n}}{(n+1)^n \\cdot \\frac{1}{n^n}} = \\lim_{n \\to +\\infty} \\frac{3}{(1+\\frac{1}{n})^n} = \\lim_{n \\to +\\infty} \\frac{3}{e} > 1$ => ряд расходится"
   ]
  },
  {
   "cell_type": "markdown",
   "metadata": {},
   "source": [
    "**5. Исследовать сходимость ряда**\n",
    "\n",
    "### $$-\\frac{\\sqrt1}{101}+\\frac{\\sqrt2}{102}-\\,...\\,+\\frac{(-1)^n\\sqrt n}{n+100}+\\,...\\,=\\sum\\limits_{n=1}^{+\\infty}\\frac{(-1)^n\\sqrt n}{n+100}$$"
   ]
  },
  {
   "cell_type": "markdown",
   "metadata": {},
   "source": [
    "Знакопеременный ряд.\n",
    "\n",
    "Признак Лейбница - проверяем сходимость по модулю.\n",
    "Второй признак сравнения:\n",
    "\n",
    "$|\\frac{(-1)^n\\sqrt n}{n+100}| = |\\frac{\\sqrt n}{n+100}| = |\\frac{\\sqrt n}{n}| = |\\frac{1}{\\sqrt n}| = |\\frac{1}{n^{\\frac{1}{2}}}|$\n",
    "\n",
    "\n",
    "Сравним $\\frac{1}{n^p}$ и $|\\frac{1}{n^{\\frac{1}{2}}}| - \\frac{1}{2} < 1$ => ряд по модулю расходится => знакопеременный ряд условно сходится"
   ]
  },
  {
   "cell_type": "markdown",
   "metadata": {},
   "source": [
    "**6. Разложить функцию $y=e^x$ в ряд Маклорена, а так же в ряд Фурье на отрезке $[-\\pi, \\pi]$. Построить график функции и разложений.**"
   ]
  },
  {
   "cell_type": "markdown",
   "metadata": {},
   "source": [
    "\n",
    "Разложение в ряд Маклорена:\n",
    "\n",
    "$f(x)=\\sum\\limits_{n=0}^{+\\infty}\\frac{f^{(n)}(0)}{n!}x^n$\n",
    "\n",
    "$f^0 = e^x$\n",
    "\n",
    "$f' = e^x$\n",
    "\n",
    "$f'' = e^x$ и т.д.\n",
    "\n",
    "$e^x(0) = 1$\n",
    "\n",
    "### $f(x) = \\frac{e^x(0)}{0!}x^0 + \\frac{e^x(0)}{1!}x^1 + \\frac{e^x(0)}{2!}x^2 + \\frac{e^x(0)}{3!}x^3 ... = \\frac{x^0}{0!} + \\frac{x^1}{1!} + \\frac{x^2}{2!} + \\frac{x^3}{3!}... = \\sum\\limits_{n=0}^{+\\infty} \\frac{x^n}{n!}$\n",
    "\n",
    "\n",
    "Разложение в ряд Фурье:"
   ]
  },
  {
   "cell_type": "markdown",
   "metadata": {},
   "source": [
    "$f(x)=a_{0}+\\sum\\limits_{n=1}^{+\\infty}(a_n\\cos nx+b_n\\sin nx)$\n",
    "\n",
    "$a_0=\\frac{1}{2\\pi}\\int\\limits_{-\\pi}^\\pi f(x)\\,dx$\n",
    "\n",
    "$a_n=\\frac{1}{\\pi}\\int\\limits_{-\\pi}^\\pi f(x)\\cos nx\\,dx$\n",
    "\n",
    "$b_n=\\frac{1}{\\pi}\\int\\limits_{-\\pi}^\\pi f(x)\\sin nx\\,dx$"
   ]
  },
  {
   "cell_type": "markdown",
   "metadata": {},
   "source": [
    "$a_0=\\frac{1}{2\\pi}\\int\\limits_{-\\pi}^\\pi e^x\\,dx$\n",
    "\n",
    "$I=\\int\\ e^x\\,dx = \\int\\ de^x = e^x $ \n",
    "\n",
    "$\\int\\limits_{-\\pi}^\\pi e^x\\,dx = e^{\\pi} - e^{-\\pi}$\n",
    "\n",
    "### $a_0 = \\frac{e^{\\pi} - e^{-\\pi}}{2\\pi}$\n",
    "__________________\n",
    "\n",
    "$a_n=\\frac{1}{\\pi}\\int\\limits_{-\\pi}^\\pi e^x\\cos nx\\,dx$\n",
    "\n",
    "$I = \\int\\ e^x\\cos nx\\,dx$\n",
    "\n",
    "$\\int\\ e^x\\cos nx\\,dx = \\frac{1}{n} \\int\\ e^x\\cos nx\\,dnx = \\frac{1}{n} \\int\\ e^x \\cdot d\\sin nx = \\frac{1}{n}e^x\\sin nx - \\frac{1}{n} \\int de^x \\cdot \\sin nx =  \\frac{1}{n}e^x\\sin nx + \\frac{1}{n^2} \\int e^x \\cdot d\\cos nx$\n",
    "\n",
    "Пусть $t = \\int e^x \\cdot d\\cos nx$:\n",
    "\n",
    "$t = e^x\\cos nx - \\int \\cos nx\\, de^x = e^x\\cos nx - \\int e^x \\cos nx\\, dx = e^x\\cos nx - I$\n",
    "\n",
    "\n",
    "Возвращаемся к основному интегралу:\n",
    "\n",
    "$I = \\frac{1}{n}e^x\\sin nx + \\frac{1}{n^2}(e^x\\cos nx - I) $\n",
    "\n",
    "$I = \\frac{1}{n}e^x\\sin nx + \\frac{1}{n^2}(e^x\\cos nx - I) $\n",
    "\n",
    "$I(\\frac{n^2+1}{n^2}) = \\frac{1}{n}e^x(\\sin nx+frac{1}{n}\\cos nx)$\n",
    "\n",
    "$I = \\frac{1}{n}e^x(\\sin nx+frac{1}{n}\\cos nx) \\cdot \\frac{n^2}{n^2+1}$\n",
    "\n",
    "$I = \\frac{e^x(n \\sin nx+\\cos nx)}{n^2+1}$\n",
    "\n",
    "$\\int\\limits_{-\\pi}^\\pi e^x\\,dx = \\frac{e^\\pi(n \\sin n\\pi+\\cos n\\pi)}{n^2+1} - \\frac{e^{-\\pi}(n \\sin n(-\\pi)+\\cos n(-\\pi))}{n^2+1} = \\frac{e^\\pi \\cdot (-1)^n - e^{-\\pi} \\cdot (-1)^n}{n^2+1} = \\frac{(-1)^n(e^\\pi- e^{-\\pi})}{n^2+1}$\n",
    "\n",
    "### $a_n = \\frac{(-1)^n(e^\\pi- e^{-\\pi})}{\\pi(n^2+1)}$\n",
    "___________________________\n",
    "\n",
    "\n",
    "$b_n=\\frac{1}{\\pi}\\int\\limits_{-\\pi}^\\pi e^x\\sin nx\\,dx$\n",
    "\n",
    "$I = \\int\\ e^x\\sin nx\\,dx$\n",
    "\n",
    "$\\int\\ e^x\\sin nx\\,dx = \\frac{1}{n} \\int\\ e^x\\sin nx\\,dnx = - \\frac{1}{n} \\int\\ e^x \\cdot d\\cos nx = -\\frac{1}{n}e^x\\cos nx + \\frac{1}{n} \\int de^x \\cdot \\cos nx =  -\\frac{1}{n}e^x\\cos nx + \\frac{1}{n^2} \\int e^x \\cdot d\\sin nx$\n",
    "\n",
    "Пусть $t = \\int e^x \\cdot d\\sin nx$:\n",
    "\n",
    "$t = e^x\\sin nx - \\int \\sin nx\\, de^x = e^x\\sin nx - \\int e^x \\sin nx\\, dx = e^x\\sin nx - I$\n",
    "\n",
    "\n",
    "Возвращаемся к основному интегралу:\n",
    "\n",
    "$I = -\\frac{1}{n}e^x\\cos nx + \\frac{1}{n^2}(e^x\\sin nx - I) $\n",
    "\n",
    "$I = -\\frac{1}{n}e^x\\cos nx + \\frac{1}{n^2}e^x\\sin nx - \\frac{1}{n^2}I $\n",
    "\n",
    "$I(\\frac{n^2+1}{n^2}) = \\frac{1}{n}e^x(\\frac{1}{n}\\sin nx-\\cos nx)$\n",
    "\n",
    "$I = \\frac{1}{n}e^x(\\frac{1}{n}\\sin nx-\\cos nx) \\cdot \\frac{n^2}{n^2+1}$\n",
    "\n",
    "$I = \\frac{e^x(\\sin nx- n \\cos nx)}{n^2+1}$\n",
    "\n",
    "$\\int\\limits_{-\\pi}^\\pi e^x\\sin nx\\,dx = \\frac{e^\\pi(\\sin n \\pi - n \\cos n\\pi)}{n^2+1} - \\frac{e^{-\\pi}(\\sin (-\\pi n) - n \\cos (-n\\pi))}{n^2+1} = \\frac{e^\\pi \\cdot (-n) \\cdot (-1)^n - e^{-\\pi} \\cdot (-n) \\cdot (-1)^n}{n^2+1} = \\frac{-n(-1)^n(e^{\\pi} - e^{-\\pi})}{n^2+1}$\n",
    "\n",
    "\n",
    "### $b_n = \\frac{-n(-1)^n(e^{\\pi} - e^{-\\pi})}{\\pi(n^2+1)}$\n",
    "\n",
    "_________________\n",
    "\n",
    "$f(x)= \\frac{e^{\\pi} - e^{-\\pi}}{2\\pi}+\\sum\\limits_{n=1}^{+\\infty}(\\frac{(-1)^n(e^\\pi- e^{-\\pi})}{\\pi(n^2+1)}\\cos nx+\\frac{-n(-1)^n(e^{\\pi} - e^{-\\pi})}{\\pi(n^2+1)}\\sin nx)$"
   ]
  },
  {
   "cell_type": "code",
   "execution_count": 232,
   "metadata": {},
   "outputs": [
    {
     "data": {
      "text/plain": [
       "[<matplotlib.lines.Line2D at 0x7fc256674ee0>]"
      ]
     },
     "execution_count": 232,
     "metadata": {},
     "output_type": "execute_result"
    },
    {
     "data": {
      "image/png": "[encoded data removed]",
      "text/plain": [
       "<Figure size 1440x432 with 2 Axes>"
      ]
     },
     "metadata": {
      "needs_background": "light"
     },
     "output_type": "display_data"
    }
   ],
   "source": [
    "import numpy as np\n",
    "import math\n",
    "import matplotlib.pyplot as plt\n",
    "\n",
    "def makloren(n):\n",
    "    x = np.arange(-np.pi, np.pi, 0.1)\n",
    "    y = 0\n",
    "    for i in range(0, n):\n",
    "        y = y +  x**i/math.factorial(i)\n",
    "    return ax1.plot(x, y, c='b', linewidth = 4, linestyle=':')\n",
    "\n",
    "def fourier(n):\n",
    "    x = np.arange(-np.pi, np.pi, 0.1)\n",
    "    y = (np.exp(1)**np.pi - np.exp(1)**(-np.pi))/(2*np.pi)\n",
    "    for i in range(1, n+1):\n",
    "        y = y +  (((-1)**i*(np.exp(1)**np.pi - np.exp(1)**(-np.pi)))/(np.pi*(i**2+1)))*np.cos(i*x) +\\\n",
    "                + ((-i*(-1)**i*(np.exp(1)**np.pi - np.exp(1)**(-np.pi)))/(np.pi*(i**2+1)))*np.sin(i*x)\n",
    "    plot = plt.plot(x, y, c='r', linewidth = 4, linestyle=':')\n",
    "    return plot\n",
    "\n",
    "\n",
    "x = np.arange(-np.pi, np.pi, 0.1)\n",
    "y = np.exp(x)\n",
    "\n",
    "fig, (ax1, ax2) = plt.subplots(\n",
    "    nrows=1, ncols=2,\n",
    "    figsize=(20, 6)\n",
    ")\n",
    "\n",
    "ax1.plot(x, y, c='r', linewidth = 4)\n",
    "ax1.set_title('График $f(x)=e^x$ и разложения в ряд Маклорена')\n",
    "ax1.grid()\n",
    "makloren(100)\n",
    "\n",
    "\n",
    "ax2.plot(x, y, c='b', linewidth = 4)\n",
    "ax2.set_title('График $f(x)=e^x$ и разложения в ряд Фурье')\n",
    "ax2.grid()\n",
    "fourier(1000)\n"
   ]
  },
  {
   "cell_type": "code",
   "execution_count": null,
   "metadata": {},
   "outputs": [],
   "source": []
  }
 ],
 "metadata": {
  "kernelspec": {
   "display_name": "Python 3",
   "language": "python",
   "name": "python3"
  },
  "language_info": {
   "codemirror_mode": {
    "name": "ipython",
    "version": 3
   },
   "file_extension": ".py",
   "mimetype": "text/x-python",
   "name": "python",
   "nbconvert_exporter": "python",
   "pygments_lexer": "ipython3",
   "version": "3.8.1"
  }
 },
 "nbformat": 4,
 "nbformat_minor": 4
}

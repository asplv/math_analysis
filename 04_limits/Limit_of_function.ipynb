{
 "cells": [
  {
   "cell_type": "markdown",
   "metadata": {},
   "source": [
    "## Предел функции"
   ]
  },
  {
   "cell_type": "markdown",
   "metadata": {},
   "source": [
    "**Найти предел функции:**"
   ]
  },
  {
   "cell_type": "markdown",
   "metadata": {},
   "source": [
    "1.$$\\lim_{x\\to \\infty}\\frac{(23-2x^2)(3x^2+17)^2}{4x^6+x-1}$$"
   ]
  },
  {
   "cell_type": "markdown",
   "metadata": {},
   "source": [
    "$\\lim_{x\\to \\infty}\\frac{(23-2x^2)(3x^2+17)^2}{4x^6+x-1} = \\frac{-18}{4} = -\\frac{9}{2}$"
   ]
  },
  {
   "cell_type": "markdown",
   "metadata": {},
   "source": [
    "2.$$\\lim_{x\\to \\infty}\\frac{(97-2x)^3}{2x(3x^2+15)+8x}$$"
   ]
  },
  {
   "cell_type": "markdown",
   "metadata": {},
   "source": [
    "$\\lim_{x\\to \\infty}\\frac{(97-2x)^3}{2x(3x^2+15)+8x} = \\frac{-8}{6} = - \\frac{4}{3}$"
   ]
  },
  {
   "cell_type": "markdown",
   "metadata": {},
   "source": [
    "3.$$\\lim_{x\\to \\infty}\\frac{2x^3+13x(x+18)}{(27-x)(2x+19)^2}$$"
   ]
  },
  {
   "cell_type": "markdown",
   "metadata": {},
   "source": [
    "$\\lim_{x\\to \\infty}\\frac{2x^3+13x(x+18)}{(27-x)(2x+19)^2} = \\frac{2}{-4} = - \\frac{1}{2}$"
   ]
  },
  {
   "cell_type": "markdown",
   "metadata": {},
   "source": [
    "4.$$\\lim_{x\\to 6}\\frac{x^2-36}{x^2-x-30}$$"
   ]
  },
  {
   "cell_type": "markdown",
   "metadata": {},
   "source": [
    "$\\lim_{x\\to 6}\\frac{x^2-36}{x^2-x-30} = \\lim_{x\\to 6}\\frac{(x-6)(x+6)}{(x-6)(x+5)} = \\lim_{x\\to 6}\\frac{x+6}{x+5} = \\frac{12}{11}$"
   ]
  },
  {
   "cell_type": "markdown",
   "metadata": {},
   "source": [
    "5.$$\\lim_{x\\to 7}\\frac{x^2-49}{x^2-13x+42}$$"
   ]
  },
  {
   "cell_type": "markdown",
   "metadata": {},
   "source": [
    "$\\lim_{x\\to 7}\\frac{x^2-49}{x^2-13x+42} = \\lim_{x\\to 7}\\frac{(x-7)(x+7)}{(x-7)(x-6)} = \\lim_{x\\to 7}\\frac{x+7}{x-6} = \\frac{14}{1} = 14$"
   ]
  },
  {
   "cell_type": "markdown",
   "metadata": {},
   "source": [
    "6.$$\\lim_{x\\to 7}\\frac{\\sqrt{x+2}-\\sqrt[3]{x+20}}{\\sqrt[4]{x+9}-2}$$"
   ]
  },
  {
   "cell_type": "markdown",
   "metadata": {},
   "source": [
    "$a^4-b^4 = (a-b)(a^3 + a^2b +b^2a +b^3)$\n",
    "\n",
    "$(\\sqrt[4]{x+9}-2)(\\sqrt[4]{x+9}^3+2\\sqrt{x+9} + 4\\sqrt[4]{x+9} +8) = (\\sqrt[4]{x+9})^4-2^4$\n",
    "\n",
    "$a^2-b^2 = (a-b)(a+b)$\n",
    "\n",
    "$(\\sqrt{x+2}-\\sqrt[3]{x+20})(\\sqrt{x+2}+\\sqrt[3]{x+20}) = (\\sqrt{x+2})^2 - (\\sqrt[3]{x+20})^2$\n",
    "\n",
    "\n",
    "$a^3-b^3 = (a-b)(a^2+ab+b^2)$"
   ]
  },
  {
   "cell_type": "markdown",
   "metadata": {},
   "source": [
    "$\\lim_{x\\to 7}\\frac{\\sqrt{x+2}-\\sqrt[3]{x+20}}{\\sqrt[4]{x+9}-2} = \\lim_{x\\to 7}\\frac{\\sqrt{x+2}-\\sqrt[3]{x+20}}{\\sqrt[4]{x+9}-2} \\cdot  \\frac{\\sqrt{x+2}+\\sqrt[3]{x+20}}{\\sqrt{x+2}+\\sqrt[3]{x+20}} \\cdot \\frac{\\sqrt[4]{x+9}^3+2\\sqrt{x+9} + 4\\sqrt[4]{x+9} +8}{\\sqrt[4]{x+9}^3+2\\sqrt{x+9} + 4\\sqrt[4]{x+9} +8} =$"
   ]
  },
  {
   "cell_type": "markdown",
   "metadata": {},
   "source": [
    "$ =\\lim_{x\\to 7}\\frac{(\\sqrt{x+2})^2 -(\\sqrt[3]{x+20})^2}{x-7} \\cdot  \\frac{\\sqrt[4]{x+9}^3+2\\sqrt{x+9} + 4\\sqrt[4]{x+9} +8}{\\sqrt{x+2}+\\sqrt[3]{x+20}}= \\lim_{x\\to 7}\\frac{(x+2) -(x+20)^{\\frac{2}{3}}}{x-7} \\cdot  \\frac{\\sqrt[4]{x+9}^3+2\\sqrt{x+9} + 4\\sqrt[4]{x+9} +8}{\\sqrt{x+2}+\\sqrt[3]{x+20}}$"
   ]
  },
  {
   "cell_type": "markdown",
   "metadata": {},
   "source": [
    "7.$$\\lim_{x\\to 07}\\frac{3x \\tan 4x}{1-\\cos4x}$$"
   ]
  },
  {
   "cell_type": "markdown",
   "metadata": {},
   "source": [
    "$\\lim_{x\\to 0}\\frac{3x \\tan 4x}{1-\\cos4x} = \\lim_{x\\to 0}\\frac{3x \\tan 4x}{2\\sin^22x} =\\lim_{x\\to 0}\\frac{3x \\cdot 4x}{2 \\cdot 2x \\cdot 2x} =\\lim_{x\\to 0}\\frac{12x^2}{2 \\cdot 4x^2} = \\frac{3}{2}$"
   ]
  },
  {
   "cell_type": "markdown",
   "metadata": {},
   "source": [
    "8.$$\\lim_{x\\to 0}\\frac{\\sqrt{2}x^2\\sin 4x}{(1-\\cos2x)^{\\frac{3}{2}}}$$"
   ]
  },
  {
   "cell_type": "markdown",
   "metadata": {},
   "source": [
    "$\\lim_{x\\to 0}\\frac{\\sqrt{2}x^2\\sin 4x}{(1-\\cos2x)^{\\frac{3}{2}}}= \\lim_{x\\to 0}\\frac{\\sqrt{2}x^2\\sin 4x}{(2\\sin^2x)^{\\frac{3}{2}}} = \\lim_{x\\to 0}\\frac{\\sqrt{2}x^2\\sin 4x}{(\\sqrt{2\\sin^2 x})^3}=\\lim_{x\\to 0}\\frac{\\sqrt{2}x^2 \\sin4x}{(\\sqrt{2} \\cdot \\sin x)^3} = \\lim_{x\\to 0}\\frac{\\sqrt{2}x^2 \\cdot 4x}{2\\sqrt{2}x^3} = $\n",
    "$= \\lim_{x\\to 0}\\frac{2x^2 \\cdot x }{x^3}$\n",
    "\n",
    "в числителе $x^2 > 0$, $x$ (от $\\sin 4x$) - неопределенного знака, в знаменателе $x^3 > 0$, т.к. $(x^2)^{3}$, следовательно:\n",
    "\n",
    "$\\lim_{x\\to 0}\\frac{2x^2 \\cdot x }{x^3} = \\pm 2$"
   ]
  },
  {
   "cell_type": "markdown",
   "metadata": {},
   "source": [
    "9.$$\\lim_{x\\to \\infty}\\left(\\frac{4x}{4x+3}\\right)^{\\frac{5x^2}{7x-1}}$$"
   ]
  },
  {
   "cell_type": "markdown",
   "metadata": {},
   "source": [
    "$\\lim_{x\\to \\infty}\\left(\\frac{4x}{4x+3}\\right)^{\\frac{5x^2}{7x-1}}=\\lim_{x\\to \\infty}\\left(\\frac{4x+3-3}{4x+3}\\right)^{\\frac{5x^2}{7x-1}}=\\lim_{x\\to \\infty}\\left(\\frac{4x+3}{4x+3} - \\frac{3}{4x+3}\\right)^{\\frac{5x^2}{7x-1}} = \\lim_{x\\to \\infty}\\left(1 - \\frac{3}{4x+3}\\right)^{\\frac{5x^2}{7x-1}} = $\n",
    "$=\\lim_{x\\to \\infty}\\left(1 + \\frac{-3}{4x+3}\\right)^{\\frac{4x+3}{-3} \\cdot \\frac{-3}{4x+3} \\cdot \\frac{5x^2}{7x-1}} = e^{\\lim{x\\to \\infty}\\frac{-3}{4x+3} \\cdot \\frac{5x^2}{7x-1}} = e^{\\lim{x\\to \\infty}\\frac{-15x^2}{(4x+3)(7x-1)}} = e^{-\\frac{15}{28}}$"
   ]
  },
  {
   "cell_type": "markdown",
   "metadata": {},
   "source": [
    "10.$$\\lim_{x\\to \\infty}\\frac{\\ln(x^2-x+1)}{\\ln(x^{10}+x+1)}$$"
   ]
  },
  {
   "cell_type": "markdown",
   "metadata": {},
   "source": [
    "$\\lim_{x\\to \\infty}\\frac{\\ln(x^2-x+1)}{\\ln(x^{10}+x+1)}= \\lim_{x\\to \\infty}\\frac{\\ln x^2}{\\ln x^{10}} = \\lim_{x\\to \\infty}\\frac{2 \\ln x}{10 \\ln x} = \\frac{1}{5}$"
   ]
  },
  {
   "cell_type": "markdown",
   "metadata": {},
   "source": [
    "11.$$\\lim_{x\\to 0}\\frac{5^x-1}{x}$$"
   ]
  },
  {
   "cell_type": "markdown",
   "metadata": {},
   "source": [
    "Предствим $5$ как $e^{\\ln 5}$, тогда $5^x=e^{\\ln 5 \\cdot x}$\n",
    "\n",
    "$\\lim_{x\\to 0}\\frac{5^x-1}{x} = \\lim_{x\\to 0}\\frac{e^{x\\ln 5}-1}{x}\\cdot \\frac{\\ln5}{\\ln5}  = \\lim_{x\\to 0}\\frac{e^{x\\ln 5}-1}{x\\ln 5}\\cdot \\ln 5 = \\ln 5$"
   ]
  }
 ],
 "metadata": {
  "kernelspec": {
   "display_name": "Python 3",
   "language": "python",
   "name": "python3"
  },
  "language_info": {
   "codemirror_mode": {
    "name": "ipython",
    "version": 3
   },
   "file_extension": ".py",
   "mimetype": "text/x-python",
   "name": "python",
   "nbconvert_exporter": "python",
   "pygments_lexer": "ipython3",
   "version": "3.8.1"
  }
 },
 "nbformat": 4,
 "nbformat_minor": 4
}

{
 "cells": [
  {
   "cell_type": "markdown",
   "metadata": {},
   "source": [
    "### Тема “Введение в математических анализ”"
   ]
  },
  {
   "cell_type": "markdown",
   "metadata": {},
   "source": [
    "**1. Как относятся друг к другу множество и последовательность? (в ответе использовать слова типа: часть, целое, общее, частное, родитель, дочерний субъект и т.д.)**\n",
    "\n",
    "Последовательность - это часть некоторого множества, т.е. набор его элементов, индексированных натуральными числами."
   ]
  },
  {
   "cell_type": "markdown",
   "metadata": {},
   "source": [
    "**2. Прочитать высказывания математической логики, построить их отрицания и установить истинность.**"
   ]
  },
  {
   "cell_type": "markdown",
   "metadata": {},
   "source": [
    "1) $\\forall y \\in [0;1] : sgn(y)=1$ - Высказывание ложно, т.к. если $y=0, sgn(y) = 0$\n",
    "\n",
    "Отрицание: $\\exists y \\in [0;1] : sgn(y) \\ne 1$\n",
    "\n",
    "2) $\\forall n \\in \\mathbb{N} > 2 : \\exists x, y, z \\in \\mathbb{N} : x^n = y^n +z^n$ - Высказывание ложно, т.к. является отрицанием Великой теоремы Ферма\n",
    "\n",
    "Отрицание: $\\forall n \\in \\mathbb{N} > 2 : \\forall x, y, z \\in \\mathbb{N} : x^n \\ne y^n +z^n$\n",
    "\n",
    "3) $\\forall x \\in \\mathbb{R} \\exists X \\in \\mathbb{R} : X > x$ - Высказывание истинно, т.к. для любого действительного числа существует большее число\n",
    "\n",
    "Отрицание: $\\exists x \\in \\mathbb{R} \\forall X \\in \\mathbb{R} : X \\leq x$\n",
    "\n",
    "4) $\\forall x \\in \\mathbb{C} \\nexists y \\in \\mathbb{С} : x > y \\parallel x < y$ - Высказывание истинно, т.к. для комплексных чисел невозможна операция сравнения\n",
    "\n",
    "Отрицание: $\\exists x \\in \\mathbb{C} \\exists y \\in \\mathbb{С} : x > y \\parallel x < y$\n",
    "\n",
    "5) $\\forall y \\in [0; \\frac{\\pi}{2}]\\exists \\varepsilon > 0 : sin(y) < sin(y + \\varepsilon)$ - Высказывание ложно, т.к. если $y=\\frac{\\pi}{2}$, прибавление $\\varepsilon$ будет давать меньшее значение функции.\n",
    "\n",
    "Отрицание: $\\exists y \\in [0; \\frac{\\pi}{2}]\\forall \\varepsilon > 0 : sin(y) \\geq sin(y + \\varepsilon)$\n",
    "\n",
    "6) $\\forall y \\in [0; \\pi) \\exists \\varepsilon > 0 : cos(y) > cos(y + \\varepsilon)$ - Высказывание истинно, т.к. $cos(y)$ убывает и прибавление $\\varepsilon$ будет давать меньшее значение функции.\n",
    "\n",
    "Отрицание: $\\exists y \\in [0; \\pi) \\forall \\varepsilon > 0 : cos(y) \\leq cos(y + \\varepsilon)$\n",
    "\n",
    "7) $\\exists x : x \\notin \\{\\mathbb{N}, \\mathbb{Z}, \\mathbb{Q}, \\mathbb{R}, \\mathbb{C}\\}$ - Высказывание истинно, т.к. возможно, что $x \\in \\{\\mathbb{H}, \\mathbb{O}, \\mathbb{S}\\}$\n",
    "\n",
    "Отрицание: $\\forall x : x \\in \\{\\mathbb{N}, \\mathbb{Z}, \\mathbb{Q}, \\mathbb{R}, \\mathbb{C}\\}$"
   ]
  },
  {
   "cell_type": "markdown",
   "metadata": {},
   "source": [
    "### Тема “Множество”"
   ]
  },
  {
   "cell_type": "markdown",
   "metadata": {},
   "source": [
    "**1. Даны три множества a, b и с. Необходимо выполнить все изученные виды бинарных операций над всеми комбинациями множеств**"
   ]
  },
  {
   "cell_type": "markdown",
   "metadata": {},
   "source": [
    "1. $A\\cap B$\n",
    "2. $A\\cup B$\n",
    "3. $A\\backslash B$\n",
    "4. $B\\backslash A$\n",
    "5. $A\\vartriangle B$\n",
    "6. $A\\cap C$\n",
    "7. $A\\cup C$\n",
    "8. $A\\backslash C$\n",
    "9. $C\\backslash A$\n",
    "10. $A\\vartriangle C$\n",
    "11. $B\\cap C$\n",
    "12. $B\\cup C$\n",
    "13. $B\\backslash C$\n",
    "14. $C\\backslash B$\n",
    "15. $B\\vartriangle C$"
   ]
  },
  {
   "cell_type": "markdown",
   "metadata": {},
   "source": [
    "**2. Выполнить задание 1 на языке Python**"
   ]
  },
  {
   "cell_type": "code",
   "execution_count": 1,
   "metadata": {},
   "outputs": [],
   "source": [
    "a = {20, 30, 40, 50, 60}\n",
    "b = {200, 45, 78, 40, 8, 14, 50, 20, 50}\n",
    "c = {30, 4, 5, 1, 200, 45, 20}"
   ]
  },
  {
   "cell_type": "code",
   "execution_count": 2,
   "metadata": {},
   "outputs": [
    {
     "name": "stdout",
     "output_type": "stream",
     "text": [
      "A∩B:{40, 200, 8, 45, 78, 14, 50, 20, 60, 30}\n",
      "A∪B:{40, 50, 20}\n",
      "A\\B:{60, 30}\n",
      "B\\A:{200, 8, 45, 78, 14}\n",
      "AΔB:{200, 8, 45, 78, 14, 60, 30}\n",
      "A∩С:{1, 4, 5, 40, 200, 45, 50, 20, 60, 30}\n",
      "A∪С:{20, 30}\n",
      "A\\С:{40, 50, 60}\n",
      "С\\A:{1, 4, 5, 200, 45}\n",
      "AΔC:{1, 4, 5, 200, 40, 45, 50, 60}\n",
      "B∩С:{1, 4, 5, 200, 8, 40, 45, 78, 14, 50, 20, 30}\n",
      "B∪С:{200, 20, 45}\n",
      "B\\С:{8, 40, 78, 14, 50}\n",
      "С\\B:{1, 4, 5, 30}\n",
      "BΔC:{1, 4, 5, 8, 78, 14, 30, 40, 50}\n"
     ]
    }
   ],
   "source": [
    "print(f'A∩B:{a.union(b)}')\n",
    "print(f'A∪B:{a.intersection(b)}')\n",
    "print(f'A\\B:{a.difference(b)}')\n",
    "print(f'B\\A:{b.difference(a)}')\n",
    "print(f'AΔB:{a.symmetric_difference(b)}')\n",
    "print(f'A∩С:{a.union(c)}')\n",
    "print(f'A∪С:{a.intersection(c)}')\n",
    "print(f'A\\С:{a.difference(c)}')\n",
    "print(f'С\\A:{c.difference(a)}')\n",
    "print(f'AΔC:{a.symmetric_difference(c)}')\n",
    "print(f'B∩С:{b.union(c)}')\n",
    "print(f'B∪С:{b.intersection(c)}')\n",
    "print(f'B\\С:{b.difference(c)}')\n",
    "print(f'С\\B:{c.difference(b)}')\n",
    "print(f'BΔC:{b.symmetric_difference(c)}')"
   ]
  },
  {
   "cell_type": "markdown",
   "metadata": {},
   "source": [
    "### Тема “Последовательность”"
   ]
  },
  {
   "cell_type": "markdown",
   "metadata": {},
   "source": [
    "**1. Даны 4 последовательности. Необходимо:**\n",
    "- a. исследовать их на монотонность;\n",
    "- b. исследовать на ограниченность;\n",
    "- c. найти пятый по счету член"
   ]
  },
  {
   "cell_type": "markdown",
   "metadata": {},
   "source": [
    "[Ссылка на фото](https://github.com/asplv/math_analysis/blob/master/01_sets_sequences_limits/task3_1.jpg)"
   ]
  },
  {
   "cell_type": "markdown",
   "metadata": {},
   "source": [
    "[Ссылка на фото](https://github.com/asplv/math_analysis/blob/master/01_sets_sequences_limits/task3_1_2.jpg)"
   ]
  },
  {
   "cell_type": "markdown",
   "metadata": {},
   "source": [
    "**2. Найти 12-й член заданной неявно последовательности:** $a_1=128,a_{n+1}-a_n=6$"
   ]
  },
  {
   "cell_type": "markdown",
   "metadata": {},
   "source": [
    "\\begin{align} \n",
    "a_{n+1}=a_n - 6 \\\\\n",
    "a_{12}=128+6 \\cdot 11 \\\\\n",
    "a_{12}=194 \n",
    "\\end{align}"
   ]
  },
  {
   "cell_type": "markdown",
   "metadata": {},
   "source": [
    "**3. На языке Python предложить алгоритм, вычисляющий численно предел с точностью $\\varepsilon = 10^{-7}$:\n",
    "$$\\lim_{n\\to +\\infty}\\frac{n}{\\sqrt[n]{n!}}$$**"
   ]
  },
  {
   "cell_type": "code",
   "execution_count": 5,
   "metadata": {},
   "outputs": [],
   "source": [
    "import math"
   ]
  },
  {
   "cell_type": "code",
   "execution_count": 9,
   "metadata": {},
   "outputs": [],
   "source": [
    "accuracy = 10**(-7)\n",
    "x = 2"
   ]
  },
  {
   "cell_type": "code",
   "execution_count": 10,
   "metadata": {},
   "outputs": [],
   "source": [
    "def seq_el(x):\n",
    "    return x/math.factorial(x)**(1/x)"
   ]
  },
  {
   "cell_type": "code",
   "execution_count": 11,
   "metadata": {},
   "outputs": [
    {
     "name": "stdout",
     "output_type": "stream",
     "text": [
      "1.414213562373095\n"
     ]
    }
   ],
   "source": [
    "while seq_el(x) - seq_el(x+1) > accuracy:\n",
    "    x = x+1\n",
    "print(seq_el(x))"
   ]
  }
 ],
 "metadata": {
  "kernelspec": {
   "display_name": "Python 3",
   "language": "python",
   "name": "python3"
  },
  "language_info": {
   "codemirror_mode": {
    "name": "ipython",
    "version": 3
   },
   "file_extension": ".py",
   "mimetype": "text/x-python",
   "name": "python",
   "nbconvert_exporter": "python",
   "pygments_lexer": "ipython3",
   "version": "3.8.1"
  }
 },
 "nbformat": 4,
 "nbformat_minor": 4
}

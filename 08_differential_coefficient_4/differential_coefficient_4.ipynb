{
 "cells": [
  {
   "cell_type": "markdown",
   "metadata": {},
   "source": [
    "Анастасия Плавина\n",
    "### Тема: Исследование на условный экстремум.  Метод множителей Лагранжа, решение уравнений при помощи fsolve (метод Ньютона)"
   ]
  },
  {
   "cell_type": "markdown",
   "metadata": {},
   "source": [
    "**1. Исследовать на условный экстремум функцию**\n",
    "\n",
    "### $$U=3-8x+6y,$$\n",
    "\n",
    "если\n",
    "\n",
    "### $$x^2+y^2=36$$"
   ]
  },
  {
   "cell_type": "markdown",
   "metadata": {},
   "source": [
    "$L = 3-8x+6y + \\lambda \\cdot (x^2+y^2-36)$\n",
    "\n",
    "1) Находим частные производные и приравниваем их к нулю:\n",
    "\n",
    "$L_{x}'= -8 + 2x\\lambda$\n",
    "\n",
    "$L_{y}'= 6 + 2y\\lambda$\n",
    "\n",
    "$L_{\\lambda}' = x^2+y^2-36$\n",
    "\n",
    "\n",
    "$\\begin{cases}\n",
    "   -8 + 2x\\lambda =0; \\\\\n",
    "   6 + 2y\\lambda=0; \\\\\n",
    "   x^2+y^2-36 = 0\n",
    " \\end{cases}$\n",
    "\n",
    "$\\begin{cases}\n",
    "   x =\\frac{4}{\\lambda}; \\\\\n",
    "   y=\\frac{-3}{\\lambda}; \\\\\n",
    "   (\\frac{4}{\\lambda})^2+(\\frac{-3}{\\lambda})^2 = 0\n",
    " \\end{cases}$\n",
    " \n",
    "$\\begin{cases}\n",
    "   x =\\frac{4}{\\lambda}; \\\\\n",
    "   y=\\frac{-3}{\\lambda}; \\\\\n",
    "   \\lambda^2 = \\frac{25}{36}\n",
    " \\end{cases}$\n",
    " \n",
    "$\\begin{cases}\n",
    "   x =\\pm \\frac{24}{5}; \\\\\n",
    "   y=\\pm \\frac{18}{5}; \\\\\n",
    "   \\lambda = \\pm \\frac{5}{6}\n",
    " \\end{cases}$\n",
    " \n",
    "Получаем точки: $(\\frac{24}{5}, -\\frac{18}{5}, \\frac{5}{6}), (-\\frac{24}{5}, \\frac{18}{5}, -\\frac{5}{6})$\n",
    "\n",
    "\n",
    "2) Находим вторые производные и составляем матрицу Гессе:\n",
    "\n",
    "$L_{xx}'= 2\\lambda$\n",
    "\n",
    "$L_{xy}'= L_{yx}' = 0$\n",
    "\n",
    "$L_{x\\lambda}' = L_{\\lambda x}' =  2x$\n",
    "\n",
    "$L_{yy}'= 2\\lambda$\n",
    "\n",
    "$L_{y\\lambda}' = L_{\\lambda y}'=  2y$\n",
    "\n",
    "$L_{\\lambda\\lambda}'= 0$\n",
    "\n",
    "\n",
    "\n",
    "$\\begin{pmatrix}\n",
    "0 & 2x & 2y\\\\ \n",
    "2x & 2\\lambda & 0\\\\\n",
    "2y & 0 & 2\\lambda\\\\\n",
    "\\end{pmatrix}$\n",
    "\n",
    "$\\Delta=0\\cdot\n",
    "\\begin{vmatrix}\n",
    "2\\lambda & 0\\\\\n",
    "0 & 2\\lambda\\\\\n",
    "\\end{vmatrix}-2x\\cdot\n",
    "\\begin{vmatrix}\n",
    "2x & 0\\\\\n",
    "2y & 2\\lambda\\\\\n",
    "\\end{vmatrix}+2y\\cdot\n",
    "\\begin{vmatrix}\n",
    "2x & 2\\lambda\\\\\n",
    "2y & 0\\\\\n",
    "\\end{vmatrix}=(-2x)\\cdot 4x\\lambda+2y \\cdot(-4y\\lambda)=-8\\lambda(x^2+y^2) = -8\\lambda \\cdot 36$\n",
    "\n",
    "$\\Delta = -288 \\lambda$\n",
    "\n",
    "\n",
    "3) Проверяем каждую точку:\n",
    "\n",
    "- $(\\frac{24}{5}, -\\frac{18}{5}, \\frac{5}{6})$\n",
    "\n",
    "$\\Delta = - \\frac{288 \\cdot 5}{6} = -240 < 0$ => минимум\n",
    "\n",
    "- $(-\\frac{24}{5}, \\frac{18}{5}, -\\frac{5}{6})$\n",
    "\n",
    "$\\Delta = 240 > 0$ => максимум\n",
    "\n",
    "\n"
   ]
  },
  {
   "cell_type": "markdown",
   "metadata": {},
   "source": [
    "**2. Исследовать на условный экстремум функцию**\n",
    "\n",
    "### $$U=2x^2+12xy+32y^2+15,$$\n",
    "\n",
    "если\n",
    "\n",
    "### $$x^2+16y^2=64$$"
   ]
  },
  {
   "cell_type": "markdown",
   "metadata": {},
   "source": [
    "$L = 2x^2+12xy+32y^2+15 + \\lambda \\cdot (x^2+16y^2-64)$\n",
    "\n",
    "\n",
    "1) Находим частные производные и приравниваем их к нулю:\n",
    "\n",
    "$L_{x}'= 4x + 12y + 2x\\lambda$\n",
    "\n",
    "$L_{y}'= 12x + 64y + 32y\\lambda$\n",
    "\n",
    "$L_{\\lambda}' = x^2+16y^2-64$\n",
    "\n",
    "\n",
    "$\\begin{cases}\n",
    "   4x + 12y + 2x\\lambda=0; \\\\\n",
    "   12x + 64y + 32y = 0 ; \\\\\n",
    "   x^2+16y^2-64 = 0 \n",
    " \\end{cases}$\n",
    " \n",
    "$\\begin{cases}\n",
    "   2x + 6y + x\\lambda=0; \\\\\n",
    "   3x + 16y + 8y = 0 ; \\\\\n",
    "   x^2+16y^2 =  64 \n",
    " \\end{cases}$\n",
    " \n",
    " Корни: \n",
    " - $(-4\\sqrt{2}, -\\sqrt{2}, - \\frac{7}{2})$\n",
    " \n",
    " - $(4\\sqrt{2}, \\sqrt{2}, - \\frac{7}{2})$\n",
    " \n",
    " - $(-4\\sqrt{2}, \\sqrt{2}, - \\frac{1}{2})$\n",
    " \n",
    " - $(4\\sqrt{2}, -\\sqrt{2}, - \\frac{1}{2})$\n",
    " \n",
    "\n",
    "\n",
    "2) Находим вторые производные и составляем матрицу Гессе:\n",
    "\n",
    "$L_{xx}'= 4+2\\lambda$\n",
    "\n",
    "$L_{xy}'= L_{yx}' = 12$\n",
    "\n",
    "$L_{x\\lambda}' = L_{\\lambda x}' =  2x$\n",
    "\n",
    "$L_{yy}'= 64 + 32\\lambda$\n",
    "\n",
    "$L_{y\\lambda}' = L_{\\lambda y}'=  32y$\n",
    "\n",
    "$L_{\\lambda\\lambda}'= 0$\n",
    "\n",
    "$\\begin{pmatrix}\n",
    "0 & 2x & 32y\\\\ \n",
    "2x & 4+2\\lambda & 12\\\\\n",
    "32y & 12 & 64 + 32\\lambda\\\\\n",
    "\\end{pmatrix}$"
   ]
  },
  {
   "cell_type": "markdown",
   "metadata": {},
   "source": [
    "$\\Delta=0\\cdot\n",
    "\\begin{vmatrix}\n",
    "4+2\\lambda & 12\\\\\n",
    "12 & 64+32\\lambda\\\\\n",
    "\\end{vmatrix}-2x\\cdot\n",
    "\\begin{vmatrix}\n",
    "2x & 12\\\\\n",
    "32y & 64+32\\lambda\\\\\n",
    "\\end{vmatrix}+32y\\cdot\n",
    "\\begin{vmatrix}\n",
    "2x & 4+2\\lambda\\\\\n",
    "32y & 12\\\\\n",
    "\\end{vmatrix}=$\n",
    "\n",
    "$=-2x(2x(64+32\\lambda) - 12 \\cdot 32y) + 32y(2x \\cdot 12 - 32y(4+2\\lambda)) = -256x^2 -128x^2\\lambda +1536xy -4096y^2 - 2048y^2\\lambda = 1536xy -(2+\\lambda)(128x^2 + 2048y^2)$\n",
    "\n",
    "При $x^2+16y^2=64$:\n",
    "\n",
    "$\\Delta = 1536xy -(2+\\lambda) \\cdot 64 \\cdot 128 = 1536xy -(2+\\lambda) \\cdot 8192$\n",
    "\n",
    "\n",
    "3) Проверяем каждую точку:\n",
    "\n",
    " - $(-4\\sqrt{2}, -\\sqrt{2}, - \\frac{7}{2})$\n",
    " \n",
    "   $\\Delta = 8 \\cdot 1536 - (2-3.5) \\cdot 8192 = 8 \\cdot 1536 + 1.5 \\cdot 8192 > 0$ => максимум\n",
    " \n",
    " \n",
    " - $(4\\sqrt{2}, \\sqrt{2}, - \\frac{7}{2})$\n",
    " \n",
    "   $\\Delta = 8 \\cdot 1536 + 1.5 \\cdot 8192 > 0$ => максимум\n",
    "  \n",
    " \n",
    " - $(-4\\sqrt{2}, \\sqrt{2}, - \\frac{1}{2})$\n",
    " \n",
    "   $\\Delta = -8 \\cdot 1536 - (2-0.5) \\cdot 8192 = -8 \\cdot 1536 - 1.5 \\cdot 8192 < 0$ => минимум\n",
    "  \n",
    " \n",
    " - $(4\\sqrt{2}, -\\sqrt{2}, - \\frac{1}{2})$\n",
    "\n",
    "   $\\Delta = -8 \\cdot 1536 - 1.5 \\cdot 8192 < 0$ => минимум\n"
   ]
  },
  {
   "cell_type": "markdown",
   "metadata": {},
   "source": [
    "**3. Численно найти хотя бы один действительный корень системы нелинейных уравнений:**\n",
    "### $$\\begin{cases}\n",
    "   x^2-y^2+3xy^3-2x^2y^2+2x-3y-5=0 \\\\\n",
    "   3y^3-2x^2+2x^3y-5x^2y^2+5=0\n",
    " \\end{cases}$$"
   ]
  },
  {
   "cell_type": "code",
   "execution_count": 1,
   "metadata": {},
   "outputs": [
    {
     "name": "stdout",
     "output_type": "stream",
     "text": [
      "{(1.27330206, 1.66203912)}\n"
     ]
    }
   ],
   "source": [
    "from scipy.optimize import fsolve\n",
    "import math\n",
    "import numpy as np\n",
    "\n",
    "def equations(p):\n",
    "    x,y = p\n",
    "    return (x**2 - y**2 +3*x*y**3- 2*x**2*y**2+2*x - 3*y - 5, 3*y**3 - 2*x**2 +2*x**3*y - 5*x**2*y**2+5)\n",
    "\n",
    "solve = set()\n",
    "(x, y), info, ier, mesg =  fsolve(equations, (10, 10), full_output=True)\n",
    "if ier == 1:\n",
    "    solve.add((int(x*10**8)/10**8,int(y*10**8)/10**8))\n",
    "\n",
    "print (solve)"
   ]
  },
  {
   "cell_type": "markdown",
   "metadata": {},
   "source": [
    "**4. Численно найти все $5$ действительных корней.**\n",
    "### $$\\begin{cases}\n",
    "   x^2-y^2+3xy^3-2x^2y^2+2x-3y-5=0 \\\\\n",
    "   3y^3-2x^2+2x^3y-5x^2y^2+5=0\n",
    " \\end{cases}$$"
   ]
  },
  {
   "cell_type": "code",
   "execution_count": 9,
   "metadata": {},
   "outputs": [
    {
     "name": "stdout",
     "output_type": "stream",
     "text": [
      "Все решения системы уравнений: {(1.37568714, -0.17475798), (1.27330206, 1.66203912), (-3.65307996, -0.27476341), (2.49435653, 0.70831752), (2.21775363, 0.61019397)}\n"
     ]
    }
   ],
   "source": [
    "def equations(p):\n",
    "    x,y = p\n",
    "    return (x**2 - y**2 +3*x*y**3- 2*x**2*y**2+2*x - 3*y - 5, 3*y**3 - 2*x**2 +2*x**3*y - 5*x**2*y**2+5)\n",
    "\n",
    "solve = set()\n",
    "for x in np.arange (-10, 10, 1):\n",
    "    for y in np.arange (-10, 10, 1):\n",
    "        (x, y), info, ier, mesg =  fsolve(equations, (x, y), full_output=True)\n",
    "        if (ier == 1): solve.add((int(x*10**8)/10**8,int(y*10**8)/10**8))\n",
    "print (f'Все решения системы уравнений: {solve}')"
   ]
  },
  {
   "cell_type": "markdown",
   "metadata": {},
   "source": [
    "**5. **Даны две функции $y_{1}=f(x)$ и $y_{2}=g(x)$. Известно, что:**\n",
    "\n",
    "### $$f'(x)=\\frac{1}{2}g(x)$$\n",
    "\n",
    "### $$g'(x)=2-2f(x)$$\n",
    "\n",
    "### $$f(0)=0$$\n",
    "\n",
    "### $$g(0)=1$$\n",
    "\n",
    "**Восстановить функции $y_{1}=f(x)$ и $y_{2}=g(x)$ с помощью формулы:**\n",
    "\n",
    "### $$f(x+\\Delta x) \\approx f(x)+f'(x) \\cdot \\Delta x$$\n",
    "\n",
    "**на участке** $[0, 20]$. **В качестве решения построить график этих функций в одной системе координат.**"
   ]
  },
  {
   "cell_type": "markdown",
   "metadata": {},
   "source": [
    "$f'(x)=\\frac{1}{2}g(x)$\n",
    "\n",
    "$g'(x)=2-2f(x)$\n",
    "\n",
    "$f(0)=0$\n",
    "\n",
    "$g(0)=1$\n",
    "\n",
    "Из условий =>\n",
    "\n",
    "$f(x+\\Delta x) \\approx f(x)+\\frac{1}{2}g(x) \\cdot 1$\n",
    "\n",
    "$g(x+\\Delta x) \\approx g(x)+ (2-2f(x)) \\cdot 1$\n",
    "\n",
    "=>\n",
    "\n",
    "$f(n+1) \\approx f(n)+\\frac{1}{2}g(n) \\cdot 1$\n",
    "\n",
    "$g(n+1) \\approx g(n)+ (2-2f(n)) \\cdot \\Delta x$, где $1$ - шаг\n"
   ]
  },
  {
   "cell_type": "code",
   "execution_count": 3,
   "metadata": {},
   "outputs": [
    {
     "data": {
      "image/png": "[encoded data removed]",
      "text/plain": [
       "<Figure size 576x432 with 1 Axes>"
      ]
     },
     "metadata": {
      "needs_background": "light"
     },
     "output_type": "display_data"
    }
   ],
   "source": [
    "import matplotlib.pyplot as plt\n",
    "from scipy.interpolate import splev, splrep\n",
    "\n",
    "dx = 0.5\n",
    "x_min = 0\n",
    "x_max = 20\n",
    "f_prev = 0\n",
    "g_prev = 1\n",
    "f_array = [f_prev]\n",
    "g_array = [g_prev]\n",
    "\n",
    "# находим значения функций на отрезке [0,20]\n",
    "for i in range(int((x_max-x_min)/dx)):\n",
    "    f_next = f_prev + (1/2)*g_prev*dx\n",
    "    f_prev = f_next\n",
    "    f_array.append(f_next)\n",
    "    \n",
    "    g_next = g_prev + (2-2*f_prev)*dx\n",
    "    g_prev = g_next\n",
    "    g_array.append(g_next)\n",
    "    \n",
    "x = np.arange(x_min, x_max + dx, dx)\n",
    "y_f = f_array\n",
    "y_g = g_array\n",
    "\n",
    "# значения f(x) и g(x)\n",
    "plt.figure(figsize=(8,6))\n",
    "plt.scatter(x, y_f, c='pink')\n",
    "plt.scatter(x, y_g, c='royalblue')\n",
    "\n",
    "# строим сплайны\n",
    "spl_f = splrep(x, y_f)\n",
    "x2 = np.linspace(0, 20, 200)\n",
    "y_f2 = splev(x2, spl_f)\n",
    "plt.plot(x2, y_f2, label=\"Кубический сплайн f(x)\", c = 'm')\n",
    "\n",
    "spl_g = splrep(x, y_g)\n",
    "x2 = np.linspace(0, 20, 200)\n",
    "y_g2 = splev(x2, spl_g)\n",
    "plt.plot(x2, y_g2, label=\"Кубический сплайн g(x)\", c='darkblue')\n",
    "\n",
    "plt.grid()\n",
    "plt.legend()\n",
    "plt.show()"
   ]
  },
  {
   "cell_type": "markdown",
   "metadata": {},
   "source": [
    "**6. Найти все корни уравнения $f(x)=g(x)$ на участке $[0, 20]$. Где $y_{1}=f(x)$ и $y_{2}=g(x)$ - функции из предыдущего решения.**\n",
    "\n"
   ]
  },
  {
   "cell_type": "code",
   "execution_count": 6,
   "metadata": {},
   "outputs": [
    {
     "name": "stdout",
     "output_type": "stream",
     "text": [
      "Все решения уравнения на участке от 0 до 20: {1.8040162, 5.71662264, 8.02067779, 11.93307035, 14.23713734, 18.14971707}\n"
     ]
    }
   ],
   "source": [
    "def equations(x):\n",
    "    f = splev(x, spl_f)\n",
    "    g = splev(x, spl_g)\n",
    "    return f - g\n",
    "\n",
    "solve = set()\n",
    "for x in np.arange (0, 20, 0.5):\n",
    "    res, info, ier, mesg =  fsolve(equations, x, full_output=True)\n",
    "    if (ier == 1 and res[0] >= 0 and res[0] <= 20): solve.add(int(res[0]*10**8)/10**8)\n",
    "print (f'Все решения уравнения на отрезке [0,20]: {solve}')"
   ]
  }
 ],
 "metadata": {
  "kernelspec": {
   "display_name": "Python 3",
   "language": "python",
   "name": "python3"
  },
  "language_info": {
   "codemirror_mode": {
    "name": "ipython",
    "version": 3
   },
   "file_extension": ".py",
   "mimetype": "text/x-python",
   "name": "python",
   "nbconvert_exporter": "python",
   "pygments_lexer": "ipython3",
   "version": "3.8.1"
  }
 },
 "nbformat": 4,
 "nbformat_minor": 4
}

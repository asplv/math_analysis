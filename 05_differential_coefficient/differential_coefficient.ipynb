{
 "cells": [
  {
   "cell_type": "markdown",
   "metadata": {},
   "source": [
    "## Производная функции одной переменной"
   ]
  },
  {
   "cell_type": "markdown",
   "metadata": {},
   "source": [
    "**Найти производную функций:**"
   ]
  },
  {
   "cell_type": "markdown",
   "metadata": {},
   "source": [
    "1.$$y=\\frac{1}{x}+\\frac{2}{x^2}-\\frac{5}{x^3}+\\sqrt x -\\sqrt[3]x+\\frac{3}{\\sqrt x}$$"
   ]
  },
  {
   "cell_type": "markdown",
   "metadata": {},
   "source": [
    "$y =\\frac{1}{x}+\\frac{2}{x^2}-\\frac{5}{x^3}+\\sqrt x -\\sqrt[3]x+\\frac{3}{\\sqrt x} = x^{-1}+2x^{-2} - 5x^{-3}+ x^{\\frac{1}{2}} - x^{\\frac{1}{3}}+ 3 x^{-\\frac{1}{2}}$\n",
    "\n",
    "$ y' = -1x^{-2} -  4x^{-3} + 15x^{-4} + \\frac{1}{2}x^{-\\frac{1}{2}} - \\frac{1}{3}x^{-\\frac{2}{3}} - \\frac{3}{2}x^{-\\frac{3}{2}}$"
   ]
  },
  {
   "cell_type": "markdown",
   "metadata": {},
   "source": [
    "2.$$y=x \\cdot \\sqrt {1+x^2}$$"
   ]
  },
  {
   "cell_type": "markdown",
   "metadata": {},
   "source": [
    "$ y' = 1 \\cdot \\sqrt{1+x^2} + x \\cdot \\frac{1}{2}(1+x^2)^{-\\frac{1}{2}} \\cdot 2x = \\sqrt{1+x^2} + \\frac{2x^2}{2\\sqrt{1+x^2}} = \\sqrt{1+x^2} + \\frac{x^2}{\\sqrt{1+x^2}}= \\frac{1+x^2 +x^2}{\\sqrt{1+x^2}} = \\frac{1+2x^2}{\\sqrt{1+x^2}}$"
   ]
  },
  {
   "cell_type": "markdown",
   "metadata": {},
   "source": [
    "3.$$y= \\frac{2x}{1-x^2}$$"
   ]
  },
  {
   "cell_type": "markdown",
   "metadata": {},
   "source": [
    "$y' = \\frac{(2x)' \\cdot (1-x^2) - 2x \\cdot (1-x^2)'}{(1-x^2)^2} = \\frac{2 - 2x^2 - 2x \\cdot (-2x)}{(1-x^2)^2} = \\frac{2 - 2x^2 + 4x^2}{(1-x^2)^2} = \\frac{2(1 + x^2)}{(1-x^2)^2}$"
   ]
  },
  {
   "cell_type": "markdown",
   "metadata": {},
   "source": [
    "4.$$y=\\sqrt{x+ \\sqrt{x+\\sqrt x}}$$"
   ]
  },
  {
   "cell_type": "markdown",
   "metadata": {},
   "source": [
    "$y=\\sqrt{x+ \\sqrt{x+\\sqrt x}} = \\left(x + (x+ x^{\\frac{1}{2}})^{\\frac{1}{2}}\\right)^{\\frac{1}{2}}$"
   ]
  },
  {
   "cell_type": "markdown",
   "metadata": {},
   "source": [
    "$y' = \\frac{1}{2}\\left(x + (x+ x^{\\frac{1}{2}})^{\\frac{1}{2}}\\right)^{-\\frac{1}{2}} \\cdot \\left(1 + \\frac{1}{2}(x+ x^{\\frac{1}{2}})^{-\\frac{1}{2}} \\cdot (1 + \\frac{1}{2}x^{-\\frac{1}{2}})\\right) = \\frac{1}{2\\sqrt{x+ \\sqrt{x+\\sqrt x}}} \\cdot \\left(1 +\\frac{1}{2\\sqrt{x+\\sqrt{x}}} \\cdot (1 + \\frac{1}{2\\sqrt{x}})\\right) = $"
   ]
  },
  {
   "cell_type": "markdown",
   "metadata": {},
   "source": [
    "$ = \\frac{1+\\frac{1 + \\frac{1}{2\\sqrt x}}{2\\sqrt{x+\\sqrt x}}}{2\\sqrt{x+ \\sqrt{x+\\sqrt x}}} $"
   ]
  },
  {
   "cell_type": "markdown",
   "metadata": {},
   "source": [
    "5.$$y= \\ln(x+\\sqrt{x^2+1})$$"
   ]
  },
  {
   "cell_type": "markdown",
   "metadata": {},
   "source": [
    "$y'= \\frac{1}{x+\\sqrt{x^2+1}} \\cdot \\left(1 + \\frac{1}{2}(x^2+1)^{-\\frac{1}{2}} \\cdot 2x \\right) = \\frac{1}{x+\\sqrt{x^2+1}} \\cdot (1 +\\frac{2x}{2\\sqrt{x^2+1}}) = \\frac{1}{x+\\sqrt{x^2+1}} \\cdot (1 +\\frac{x}{\\sqrt{x^2+1}}) = \\frac{1}{x+\\sqrt{x^2+1}} \\cdot \\frac{1}{\\sqrt{x^2+1}}\\left(\\sqrt{x^2+1}+x\\right) = \\frac{1}{\\sqrt{x^2+1}}$"
   ]
  },
  {
   "cell_type": "markdown",
   "metadata": {},
   "source": [
    "6.$$y=x \\cdot \\ln(x+\\sqrt{x^2+1})-\\sqrt{x^2+1}$$"
   ]
  },
  {
   "cell_type": "markdown",
   "metadata": {},
   "source": [
    "$y' = \\ln(x+\\sqrt{x^2+1}) + \\frac{x}{x+\\sqrt{x^2+1}} \\cdot \\left(1 + \\frac{1}{2}(x^2 +1)^{-\\frac{1}{2}} \\cdot 2x\\right) - \\frac{1}{2}(x^2+1)^{-\\frac{1}{2}} \\cdot 2x = $\n",
    "\n",
    "$= \\ln(x+\\sqrt{x^2+1}) + \\frac{x}{x+\\sqrt{x^2+1}} \\cdot \\left(1 + \\frac{x}{\\sqrt{x^2 +1}}\\right) - \\frac{x}{\\sqrt{x^2+1}} = $\n",
    "\n",
    "$ = \\ln(x+\\sqrt{x^2+1}) + \\frac{x}{x+\\sqrt{x^2+1}} \\cdot \\frac{1}{\\sqrt{x^2+1}}\\left(\\sqrt{x^2 +1} + x\\right) - \\frac{x}{\\sqrt{x^2+1}} = $\n",
    "\n",
    "$\\ln(x+\\sqrt{x^2+1}) + \\frac{x}{x+\\sqrt{x^2+1}} \\cdot \\frac{\\sqrt{x^2 +1} + x}{\\sqrt{x^2+1}} - \\frac{x}{\\sqrt{x^2+1}} = \\ln(x+\\sqrt{x^2+1})$"
   ]
  },
  {
   "cell_type": "markdown",
   "metadata": {},
   "source": [
    "7.$$y=\\arcsin (\\sin x)$$"
   ]
  },
  {
   "cell_type": "markdown",
   "metadata": {},
   "source": [
    "$y' = \\frac{1}{\\sqrt{1-\\sin^2x}} \\cdot \\cos x = \\frac{\\cos x}{\\sqrt{1-\\sin^2x}} $"
   ]
  },
  {
   "cell_type": "markdown",
   "metadata": {},
   "source": [
    "**8.Вычислить приближенное значение:**\n",
    "\n",
    "$$\\sin(1^0)=\\sin(\\frac{\\pi}{180})$$\n"
   ]
  },
  {
   "cell_type": "code",
   "execution_count": 20,
   "metadata": {},
   "outputs": [],
   "source": [
    "from sympy import *"
   ]
  },
  {
   "cell_type": "code",
   "execution_count": 64,
   "metadata": {},
   "outputs": [],
   "source": [
    "def sin_by_degree(degree):\n",
    "    radian = (pi/180)*degree\n",
    "    return sin(radian)"
   ]
  },
  {
   "cell_type": "code",
   "execution_count": 53,
   "metadata": {},
   "outputs": [
    {
     "data": {
      "text/plain": [
       "0.0174524064372835"
      ]
     },
     "execution_count": 53,
     "metadata": {},
     "output_type": "execute_result"
    }
   ],
   "source": [
    "sin_by_degree(1)"
   ]
  },
  {
   "cell_type": "markdown",
   "metadata": {},
   "source": [
    "**9. Написать на python алгоритм, по вычислению значений $\\sin x $ для $x \\in [0, 5 ^{\\circ}]$:**"
   ]
  },
  {
   "cell_type": "code",
   "execution_count": 67,
   "metadata": {},
   "outputs": [
    {
     "name": "stdout",
     "output_type": "stream",
     "text": [
      "0.0\n",
      "0.0174524064372835\n",
      "0.034899496702501\n",
      "0.0523359562429438\n",
      "0.0697564737441253\n",
      "0.0871557427476582\n"
     ]
    }
   ],
   "source": [
    "x = range(6)\n",
    "\n",
    "for i in x:\n",
    "    print(sin_by_degree(i))"
   ]
  }
 ],
 "metadata": {
  "kernelspec": {
   "display_name": "Python 3",
   "language": "python",
   "name": "python3"
  },
  "language_info": {
   "codemirror_mode": {
    "name": "ipython",
    "version": 3
   },
   "file_extension": ".py",
   "mimetype": "text/x-python",
   "name": "python",
   "nbconvert_exporter": "python",
   "pygments_lexer": "ipython3",
   "version": "3.8.1"
  }
 },
 "nbformat": 4,
 "nbformat_minor": 4
}

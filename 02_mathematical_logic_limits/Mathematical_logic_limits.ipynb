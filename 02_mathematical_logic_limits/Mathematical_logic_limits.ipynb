{
 "cells": [
  {
   "cell_type": "markdown",
   "metadata": {},
   "source": [
    "## Математическая логика. Последовательность."
   ]
  },
  {
   "cell_type": "code",
   "execution_count": 1,
   "metadata": {},
   "outputs": [],
   "source": [
    "import pandas as pd"
   ]
  },
  {
   "cell_type": "markdown",
   "metadata": {},
   "source": [
    "**Проверить любым способом, является ли данная логическая формула тавтологией:**"
   ]
  },
  {
   "cell_type": "markdown",
   "metadata": {},
   "source": [
    "1. $(A\\lor B) \\Rightarrow (B\\lor \\neg A)$"
   ]
  },
  {
   "cell_type": "code",
   "execution_count": 2,
   "metadata": {},
   "outputs": [
    {
     "data": {
      "text/html": [
       "<div>\n",
       "<style scoped>\n",
       "    .dataframe tbody tr th:only-of-type {\n",
       "        vertical-align: middle;\n",
       "    }\n",
       "\n",
       "    .dataframe tbody tr th {\n",
       "        vertical-align: top;\n",
       "    }\n",
       "\n",
       "    .dataframe thead th {\n",
       "        text-align: right;\n",
       "    }\n",
       "</style>\n",
       "<table border=\"1\" class=\"dataframe\">\n",
       "  <thead>\n",
       "    <tr style=\"text-align: right;\">\n",
       "      <th></th>\n",
       "      <th>A</th>\n",
       "      <th>B</th>\n",
       "      <th>A∨B</th>\n",
       "      <th>¬𝐴</th>\n",
       "      <th>𝐵∨¬𝐴</th>\n",
       "      <th>(𝐴∨𝐵)⇒(𝐵∨¬𝐴)</th>\n",
       "    </tr>\n",
       "  </thead>\n",
       "  <tbody>\n",
       "    <tr>\n",
       "      <th>0</th>\n",
       "      <td>T</td>\n",
       "      <td>T</td>\n",
       "      <td>T</td>\n",
       "      <td>F</td>\n",
       "      <td>T</td>\n",
       "      <td>T</td>\n",
       "    </tr>\n",
       "    <tr>\n",
       "      <th>1</th>\n",
       "      <td>T</td>\n",
       "      <td>F</td>\n",
       "      <td>T</td>\n",
       "      <td>F</td>\n",
       "      <td>F</td>\n",
       "      <td>F</td>\n",
       "    </tr>\n",
       "    <tr>\n",
       "      <th>2</th>\n",
       "      <td>F</td>\n",
       "      <td>T</td>\n",
       "      <td>T</td>\n",
       "      <td>T</td>\n",
       "      <td>T</td>\n",
       "      <td>T</td>\n",
       "    </tr>\n",
       "    <tr>\n",
       "      <th>3</th>\n",
       "      <td>F</td>\n",
       "      <td>F</td>\n",
       "      <td>F</td>\n",
       "      <td>T</td>\n",
       "      <td>T</td>\n",
       "      <td>T</td>\n",
       "    </tr>\n",
       "  </tbody>\n",
       "</table>\n",
       "</div>"
      ],
      "text/plain": [
       "   A  B A∨B ¬𝐴 𝐵∨¬𝐴 (𝐴∨𝐵)⇒(𝐵∨¬𝐴)\n",
       "0  T  T   T  F    T            T\n",
       "1  T  F   T  F    F            F\n",
       "2  F  T   T  T    T            T\n",
       "3  F  F   F  T    T            T"
      ]
     },
     "execution_count": 2,
     "metadata": {},
     "output_type": "execute_result"
    }
   ],
   "source": [
    "data = {'A':  ['T', 'T', 'F', 'F'],\n",
    "        'B': ['T', 'F', 'T', 'F'],\n",
    "        'A∨B': ['T', 'T', 'T', 'F'],\n",
    "        '¬𝐴':['F', 'F', 'T', 'T'],\n",
    "        '𝐵∨¬𝐴': ['T', 'F', 'T', 'T'],\n",
    "        '(𝐴∨𝐵)⇒(𝐵∨¬𝐴)': ['T', 'F', 'T', 'T']\n",
    "        }\n",
    "\n",
    "df = pd.DataFrame (data, columns = ['A','B', 'A∨B','¬𝐴', '𝐵∨¬𝐴', '(𝐴∨𝐵)⇒(𝐵∨¬𝐴)'])\n",
    "df"
   ]
  },
  {
   "cell_type": "markdown",
   "metadata": {},
   "source": [
    "данное высказывание не является тавтологией, т.к. существуют значения входящих в него высказываний, при которых общее высказывание ложно."
   ]
  },
  {
   "cell_type": "markdown",
   "metadata": {},
   "source": [
    "2. $A \\Rightarrow (A \\lor (\\neg B \\land A))$"
   ]
  },
  {
   "cell_type": "markdown",
   "metadata": {},
   "source": [
    "По закону поглощения для дизъюнкции:\n",
    "$A \\Rightarrow (A \\lor (\\neg B \\land A)) = A \\Rightarrow (A \\lor (A \\land \\neg B)) = A \\Rightarrow A $, т.е. данное высказывание является тавтологией"
   ]
  },
  {
   "cell_type": "markdown",
   "metadata": {},
   "source": [
    "**Сформулируйте словесно высказывания при следующих значениях:\n",
    "А: сегодня светит солнце; В: сегодня сыро; С: я поеду на дачу.**\n",
    "\n",
    "3. $(\\neg A\\lor B) \\Rightarrow \\neg C$ - Если сегодня не светит солнце или сыро, то я не поеду на дачу (Если сегодня пасмурно или сыро, то я не поеду на дачу)"
   ]
  },
  {
   "cell_type": "markdown",
   "metadata": {},
   "source": [
    "4. $ C\\Rightarrow (A\\lor \\neg B) $ - Если я поехал на дачу, значит, сегодня или светит солнце или не сыро"
   ]
  },
  {
   "cell_type": "markdown",
   "metadata": {},
   "source": [
    "**Пользуясь правилом построения противоположного высказывания, записать утверждения, противоположные следующим:**"
   ]
  },
  {
   "cell_type": "markdown",
   "metadata": {},
   "source": [
    "**5. На любом курсе каждого факультета есть студенты, сдающие все экзамены на «отлично»**\n",
    "\n",
    "$\\exists$курс на $\\exists$факультете, где у $\\forall$студента $\\exists$экзамен, который он $\\neg$(сдал на \"отлично\").\n",
    "\n",
    "Есть такой курс на хотя бы одном факультете, где у каждого студента найдется экзамен, который он не сдал на \"отлично\"."
   ]
  },
  {
   "cell_type": "markdown",
   "metadata": {},
   "source": [
    "**6. Каждый студент философского факультета имеет друга, который умеет решать все логические задачи.**\n",
    "\n",
    "На философском факультете $\\exists$студент, $\\forall$друзья которого $\\neg$(могут решить $\\exists$логическую задачу).\n",
    "\n",
    "На философском факультете найдется студент, все друзья которого не могут решить хотя бы одну логическую задачу."
   ]
  },
  {
   "cell_type": "markdown",
   "metadata": {},
   "source": [
    "**7. В любом самолете на рейсе Вашингтон-Москва присутствует хотя бы один сотрудник силовых органов,в каждой пуговице одежды которого вмонтирован микрофон**\n",
    "\n",
    "$\\exists$ такой самолет на рейсе Вашингтон-Москва, на котором присутствуют $\\forall$ сотрудники силовых органов, у которых $\\exists$ пуговица, в которую $\\neg$ (вмонтирован микрофон).\n",
    "\n",
    "Найдется такой самолет на рейсе Вашингтон-Москва, на котором присутствуют все сотрудники силовых органов, у которых есть хотя бы одна пуговица, в которую не вмонтирован микрофон."
   ]
  },
  {
   "cell_type": "markdown",
   "metadata": {},
   "source": [
    "**Представьте в виде несократимой рациональной дроби:**"
   ]
  },
  {
   "cell_type": "markdown",
   "metadata": {},
   "source": [
    "8. 0.(216)"
   ]
  },
  {
   "cell_type": "markdown",
   "metadata": {},
   "source": [
    "\\begin{align} \n",
    "a = 0.(216) \\\\\n",
    "1000a = 216 + 0.(216) \\\\\n",
    "999a = 216 \\\\\n",
    "a = \\frac{216}{999} \\\\\n",
    "a = \\frac{8}{37}\n",
    "\\end{align}"
   ]
  },
  {
   "cell_type": "markdown",
   "metadata": {},
   "source": [
    "9. 1.0(01)"
   ]
  },
  {
   "cell_type": "markdown",
   "metadata": {},
   "source": [
    "$1.0(01) = 1 + 0.0(01)$, пусть $a = 0.0(01)$"
   ]
  },
  {
   "cell_type": "markdown",
   "metadata": {},
   "source": [
    "\\begin{align} \n",
    "a = 0.0(01) \\\\\n",
    "10a = 0.(01)\\\\\n",
    "1000a = 10.(01) \\\\\n",
    "1000a - 10a = 10.(01) - 0.(01) \\\\\n",
    "990a = 10 \\\\\n",
    "a = \\frac{1}{99}\n",
    "\\end{align}"
   ]
  },
  {
   "cell_type": "markdown",
   "metadata": {},
   "source": [
    "тогда: $1.0(01) = 1 + \\frac{1}{99} = \\frac{1+99}{99} = \\frac{100}{99}$"
   ]
  },
  {
   "cell_type": "markdown",
   "metadata": {},
   "source": [
    "**10. Представьте 1 в виде суммы трех рациональных дробей с разными знаменателями и числителем равным 1**"
   ]
  },
  {
   "cell_type": "markdown",
   "metadata": {},
   "source": [
    "\\begin{align} \n",
    "1 = \\frac{1}{2}+\\frac{1}{3}+\\frac{1}{6} \\\\\n",
    "1 = \\frac{3+2+1}{6}\\\\\n",
    "1 = \\frac{6}{6}\n",
    "\\end{align}"
   ]
  },
  {
   "cell_type": "markdown",
   "metadata": {},
   "source": [
    "**11. Представьте 1 в виде суммы шести рациональных дробей с разными знаменателями и числителем равным 1**"
   ]
  },
  {
   "cell_type": "markdown",
   "metadata": {},
   "source": [
    "$1=\\frac{1}{2} + \\frac{1}{2}$\n",
    " \n",
    "Ищем две группы корней корней для следующего уравнения:\n",
    "\n",
    "$\\frac{1}{2} = \\frac{1}{a} + \\frac{1}{b} + \\frac{1}{c}$\n",
    "\n",
    "$\\frac{1}{2} = \\frac{bc+ac+ab}{abc}$\n",
    "\n",
    "$abc = 2bc+2ac+2ab$ \n",
    "\n",
    "$abc - 2bc - 2ac = 2ab$\n",
    "\n",
    "$c(ab -2b - 2a) = 2ab$\n",
    "\n",
    "$c = \\frac{2ab}{ab -2b - 2a}$\n",
    "\n",
    "\n",
    "Пусть $a_1 = 4, b_1 = 5$, тогда:\n",
    "\n",
    "$c_1 = \\frac{2\\cdot 4\\cdot 5}{4\\cdot 5 - 10 - 8}$\n",
    "\n",
    "$c_1 = \\frac{2\\cdot 4\\cdot 5}{2}$\n",
    "\n",
    "$c_1 = 20$\n",
    "\n",
    "\n",
    "Пусть $a_2 = 3, b_2 = 7$, тогда:\n",
    "\n",
    "$c_2 = \\frac{2\\cdot 3\\cdot 7}{3\\cdot 7 - 14 - 6}$\n",
    "\n",
    "$c_2 = \\frac{2\\cdot 3\\cdot 7}{1}$\n",
    "\n",
    "$c_2 = 42$\n",
    " \n",
    "$1 = \\frac{1}{3} + \\frac{1}{4} + \\frac{1}{5} +\\frac{1}{7} + +\\frac{1}{20} + \\frac{1}{42}$\n",
    "\n",
    "Проверка:\n",
    "\n",
    "$1 = \\frac{1}{3} + \\frac{1}{4} + \\frac{1}{5} +\\frac{1}{7} +\\frac{1}{20} + \\frac{1}{42}$\n",
    "\n",
    "$1 = \\frac{140 + 105 + 84 + 60 + 21 + 10}{420}$\n",
    "\n",
    "$1 = \\frac{420}{420}$\n"
   ]
  },
  {
   "cell_type": "markdown",
   "metadata": {},
   "source": [
    "**12. Найдите значение предела**"
   ]
  },
  {
   "cell_type": "markdown",
   "metadata": {},
   "source": [
    "$$\\lim_{n\\to \\infty}\\left(\\frac{1}{1\\cdot 2}+\\frac{1}{2\\cdot 3}+\\frac{1}{3\\cdot 4}+...+\\frac{1}{(n-1)\\cdot n}\\right)$$"
   ]
  },
  {
   "cell_type": "markdown",
   "metadata": {},
   "source": [
    "Считаем, что $\\frac{1}{(n-1)\\cdot n}= \\frac{1}{(n-1)}-\\frac{1}{n}$, тогда:"
   ]
  },
  {
   "cell_type": "markdown",
   "metadata": {},
   "source": [
    "$\\lim_{n\\to \\infty}\\left(\\frac{1}{1\\cdot 2}+\\frac{1}{2\\cdot 3}+\\frac{1}{3\\cdot 4}+...+\\frac{1}{(n-1)\\cdot n}\\right) = \\lim_{n\\to \\infty}\\left(\\left(\\frac{1}{1}-\\frac{1}{2}\\right)+\\left(\\frac{1}{2}-\\frac{1}{3}\\right)+\\left(\\frac{1}{3}-\\frac{1}{4}\\right)+...+\\left(\\frac{1}{(n-1)}-\\frac{1}{n}\\right)\\right) = \\\\\n",
    "= \\lim_{n\\to \\infty}1+\\frac{1}{(n-1)}-\\frac{1}{n}= \\lim_{n\\to \\infty} 1 - \\frac{1}{n} = 1$"
   ]
  },
  {
   "cell_type": "markdown",
   "metadata": {},
   "source": [
    "**13. Пользуясь критерием Коши, докажите сходимость последовательности**"
   ]
  },
  {
   "cell_type": "markdown",
   "metadata": {},
   "source": [
    "[Ссылка на фото](https://github.com/asplv/math_analysis/blob/master/02_mathematical_logic_limits/task13.png)"
   ]
  },
  {
   "cell_type": "markdown",
   "metadata": {},
   "source": [
    "**14. Пользуясь критерием Коши, докажите расходимость последовательности**"
   ]
  },
  {
   "cell_type": "markdown",
   "metadata": {},
   "source": [
    "[Ссылка на фото](https://github.com/asplv/math_analysis/blob/master/02_mathematical_logic_limits/task14.png)"
   ]
  }
 ],
 "metadata": {
  "kernelspec": {
   "display_name": "Python 3",
   "language": "python",
   "name": "python3"
  },
  "language_info": {
   "codemirror_mode": {
    "name": "ipython",
    "version": 3
   },
   "file_extension": ".py",
   "mimetype": "text/x-python",
   "name": "python",
   "nbconvert_exporter": "python",
   "pygments_lexer": "ipython3",
   "version": "3.8.1"
  }
 },
 "nbformat": 4,
 "nbformat_minor": 4
}
